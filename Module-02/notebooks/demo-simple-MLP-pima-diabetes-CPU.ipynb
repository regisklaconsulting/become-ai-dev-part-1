{
 "cells": [
  {
   "cell_type": "markdown",
   "id": "72a23e0b-33d9-42ad-b66a-566b913cc72a",
   "metadata": {},
   "source": [
    "# Demo: a Simple MLP - The Pima Indian Dataset - CPU"
   ]
  },
  {
   "cell_type": "markdown",
   "id": "e4f9984a-1aec-4abd-8e67-ff5bbd2e541c",
   "metadata": {},
   "source": [
    "## Introduction\n",
    "\n",
    "It describes patient medical record data for Pima Indians and whether they had an onset of diabetes within five years.\n",
    "\n",
    ">__Note__: This demo is an opportunity to apply the 7-or-8 steps of our ML end-to-end project template seen in the previous module."
   ]
  },
  {
   "cell_type": "markdown",
   "id": "60cf1981-8836-4fb5-80b7-235fe2e236b3",
   "metadata": {},
   "source": [
    "## Imports"
   ]
  },
  {
   "cell_type": "code",
   "execution_count": 20,
   "id": "45d18853-b2b4-47a6-bc27-ad2bdd88d8dd",
   "metadata": {},
   "outputs": [],
   "source": [
    "import os\n",
    "import pandas as pd\n",
    "import numpy as np\n",
    "import matplotlib\n",
    "import matplotlib.pyplot as plt\n",
    "import time\n",
    "\n",
    "from sklearn.model_selection import train_test_split\n",
    "from sklearn.metrics import accuracy_score\n",
    "\n",
    "from keras.models import Sequential\n",
    "from keras.layers import Dense, Input\n"
   ]
  },
  {
   "cell_type": "markdown",
   "id": "7a49fd9e-d201-4ec3-9815-b9e2dcad23eb",
   "metadata": {},
   "source": [
    "## Globals"
   ]
  },
  {
   "cell_type": "code",
   "execution_count": 21,
   "id": "bd9cc449-1072-4f32-ad70-bbecb5177890",
   "metadata": {},
   "outputs": [
    {
     "data": {
      "text/plain": [
       "('./data', 'pima-indians-diabetes.csv')"
      ]
     },
     "execution_count": 21,
     "metadata": {},
     "output_type": "execute_result"
    }
   ],
   "source": [
    "# fix random seed for reproducibility\n",
    "seed = 7\n",
    "np.random.seed(seed)\n",
    "\n",
    "# relative\n",
    "DATA_TOPDIR = \"./data\"\n",
    "\n",
    "PIMA_INDIANS_FILENAME = \"pima-indians-diabetes.csv\"\n",
    "\n",
    "# syntheis\n",
    "\n",
    "DATA_TOPDIR, PIMA_INDIANS_FILENAME\n"
   ]
  },
  {
   "cell_type": "markdown",
   "id": "8d24678e-dc8c-41ae-913c-fcec82a98c1d",
   "metadata": {},
   "source": [
    "## Step 1: Prepare your Dev Env. \n",
    "\n",
    "N/A"
   ]
  },
  {
   "cell_type": "markdown",
   "id": "ed63f9b4-cbed-47b0-bdf1-0bf7d8cc08b5",
   "metadata": {},
   "source": [
    "## Step 2: Framing the problem\n",
    "\n",
    "It is a __binary classification__ problem (__onset of diabetes as 1__ or __not as 0__). \n",
    "\n",
    "__Goal:__ The objective is to build a model that will classify the patient in the two categories: __the patient has onset of diabetes__ or __the patient has not onset of diabetes__."
   ]
  },
  {
   "cell_type": "markdown",
   "id": "12b46b2c-6428-4ba4-82f4-ef97ea0ea550",
   "metadata": {},
   "source": [
    "## Step 3: Summarize the data"
   ]
  },
  {
   "cell_type": "markdown",
   "id": "90c0a8ad-2bf0-4fd7-bb3a-194f2bd11dd6",
   "metadata": {},
   "source": [
    "__Load the data__\n",
    "\n",
    "Since it is a little CSV file, one can use either Python code as bellow to inspect the file, or one can use a simple editor or a spreadsheet program to visualize it."
   ]
  },
  {
   "cell_type": "code",
   "execution_count": 22,
   "id": "48a19425-f22a-4f90-9ca3-bb4c7ecd4c0c",
   "metadata": {},
   "outputs": [
    {
     "data": {
      "text/html": [
       "<div>\n",
       "<style scoped>\n",
       "    .dataframe tbody tr th:only-of-type {\n",
       "        vertical-align: middle;\n",
       "    }\n",
       "\n",
       "    .dataframe tbody tr th {\n",
       "        vertical-align: top;\n",
       "    }\n",
       "\n",
       "    .dataframe thead th {\n",
       "        text-align: right;\n",
       "    }\n",
       "</style>\n",
       "<table border=\"1\" class=\"dataframe\">\n",
       "  <thead>\n",
       "    <tr style=\"text-align: right;\">\n",
       "      <th></th>\n",
       "      <th>0</th>\n",
       "      <th>1</th>\n",
       "      <th>2</th>\n",
       "      <th>3</th>\n",
       "      <th>4</th>\n",
       "      <th>5</th>\n",
       "      <th>6</th>\n",
       "      <th>7</th>\n",
       "      <th>8</th>\n",
       "    </tr>\n",
       "  </thead>\n",
       "  <tbody>\n",
       "    <tr>\n",
       "      <th>0</th>\n",
       "      <td>6</td>\n",
       "      <td>148</td>\n",
       "      <td>72</td>\n",
       "      <td>35</td>\n",
       "      <td>0</td>\n",
       "      <td>33.6</td>\n",
       "      <td>0.627</td>\n",
       "      <td>50</td>\n",
       "      <td>1</td>\n",
       "    </tr>\n",
       "    <tr>\n",
       "      <th>1</th>\n",
       "      <td>1</td>\n",
       "      <td>85</td>\n",
       "      <td>66</td>\n",
       "      <td>29</td>\n",
       "      <td>0</td>\n",
       "      <td>26.6</td>\n",
       "      <td>0.351</td>\n",
       "      <td>31</td>\n",
       "      <td>0</td>\n",
       "    </tr>\n",
       "    <tr>\n",
       "      <th>2</th>\n",
       "      <td>8</td>\n",
       "      <td>183</td>\n",
       "      <td>64</td>\n",
       "      <td>0</td>\n",
       "      <td>0</td>\n",
       "      <td>23.3</td>\n",
       "      <td>0.672</td>\n",
       "      <td>32</td>\n",
       "      <td>1</td>\n",
       "    </tr>\n",
       "    <tr>\n",
       "      <th>3</th>\n",
       "      <td>1</td>\n",
       "      <td>89</td>\n",
       "      <td>66</td>\n",
       "      <td>23</td>\n",
       "      <td>94</td>\n",
       "      <td>28.1</td>\n",
       "      <td>0.167</td>\n",
       "      <td>21</td>\n",
       "      <td>0</td>\n",
       "    </tr>\n",
       "    <tr>\n",
       "      <th>4</th>\n",
       "      <td>0</td>\n",
       "      <td>137</td>\n",
       "      <td>40</td>\n",
       "      <td>35</td>\n",
       "      <td>168</td>\n",
       "      <td>43.1</td>\n",
       "      <td>2.288</td>\n",
       "      <td>33</td>\n",
       "      <td>1</td>\n",
       "    </tr>\n",
       "  </tbody>\n",
       "</table>\n",
       "</div>"
      ],
      "text/plain": [
       "   0    1   2   3    4     5      6   7  8\n",
       "0  6  148  72  35    0  33.6  0.627  50  1\n",
       "1  1   85  66  29    0  26.6  0.351  31  0\n",
       "2  8  183  64   0    0  23.3  0.672  32  1\n",
       "3  1   89  66  23   94  28.1  0.167  21  0\n",
       "4  0  137  40  35  168  43.1  2.288  33  1"
      ]
     },
     "execution_count": 22,
     "metadata": {},
     "output_type": "execute_result"
    }
   ],
   "source": [
    "df = pd.read_csv(filepath_or_buffer=os.path.join(DATA_TOPDIR, PIMA_INDIANS_FILENAME), sep=\",\", header=None)\n",
    "df.head()"
   ]
  },
  {
   "cell_type": "code",
   "execution_count": 23,
   "id": "5e9f0f14-9ce8-4efd-a256-a0aa0e6c43c9",
   "metadata": {},
   "outputs": [
    {
     "data": {
      "text/html": [
       "<div>\n",
       "<style scoped>\n",
       "    .dataframe tbody tr th:only-of-type {\n",
       "        vertical-align: middle;\n",
       "    }\n",
       "\n",
       "    .dataframe tbody tr th {\n",
       "        vertical-align: top;\n",
       "    }\n",
       "\n",
       "    .dataframe thead th {\n",
       "        text-align: right;\n",
       "    }\n",
       "</style>\n",
       "<table border=\"1\" class=\"dataframe\">\n",
       "  <thead>\n",
       "    <tr style=\"text-align: right;\">\n",
       "      <th></th>\n",
       "      <th>0</th>\n",
       "      <th>1</th>\n",
       "      <th>2</th>\n",
       "      <th>3</th>\n",
       "      <th>4</th>\n",
       "      <th>5</th>\n",
       "      <th>6</th>\n",
       "      <th>7</th>\n",
       "      <th>8</th>\n",
       "    </tr>\n",
       "  </thead>\n",
       "  <tbody>\n",
       "    <tr>\n",
       "      <th>count</th>\n",
       "      <td>768.000000</td>\n",
       "      <td>768.000000</td>\n",
       "      <td>768.000000</td>\n",
       "      <td>768.000000</td>\n",
       "      <td>768.000000</td>\n",
       "      <td>768.000000</td>\n",
       "      <td>768.000000</td>\n",
       "      <td>768.000000</td>\n",
       "      <td>768.000000</td>\n",
       "    </tr>\n",
       "    <tr>\n",
       "      <th>mean</th>\n",
       "      <td>3.845052</td>\n",
       "      <td>120.894531</td>\n",
       "      <td>69.105469</td>\n",
       "      <td>20.536458</td>\n",
       "      <td>79.799479</td>\n",
       "      <td>31.992578</td>\n",
       "      <td>0.471876</td>\n",
       "      <td>33.240885</td>\n",
       "      <td>0.348958</td>\n",
       "    </tr>\n",
       "    <tr>\n",
       "      <th>std</th>\n",
       "      <td>3.369578</td>\n",
       "      <td>31.972618</td>\n",
       "      <td>19.355807</td>\n",
       "      <td>15.952218</td>\n",
       "      <td>115.244002</td>\n",
       "      <td>7.884160</td>\n",
       "      <td>0.331329</td>\n",
       "      <td>11.760232</td>\n",
       "      <td>0.476951</td>\n",
       "    </tr>\n",
       "    <tr>\n",
       "      <th>min</th>\n",
       "      <td>0.000000</td>\n",
       "      <td>0.000000</td>\n",
       "      <td>0.000000</td>\n",
       "      <td>0.000000</td>\n",
       "      <td>0.000000</td>\n",
       "      <td>0.000000</td>\n",
       "      <td>0.078000</td>\n",
       "      <td>21.000000</td>\n",
       "      <td>0.000000</td>\n",
       "    </tr>\n",
       "    <tr>\n",
       "      <th>25%</th>\n",
       "      <td>1.000000</td>\n",
       "      <td>99.000000</td>\n",
       "      <td>62.000000</td>\n",
       "      <td>0.000000</td>\n",
       "      <td>0.000000</td>\n",
       "      <td>27.300000</td>\n",
       "      <td>0.243750</td>\n",
       "      <td>24.000000</td>\n",
       "      <td>0.000000</td>\n",
       "    </tr>\n",
       "    <tr>\n",
       "      <th>50%</th>\n",
       "      <td>3.000000</td>\n",
       "      <td>117.000000</td>\n",
       "      <td>72.000000</td>\n",
       "      <td>23.000000</td>\n",
       "      <td>30.500000</td>\n",
       "      <td>32.000000</td>\n",
       "      <td>0.372500</td>\n",
       "      <td>29.000000</td>\n",
       "      <td>0.000000</td>\n",
       "    </tr>\n",
       "    <tr>\n",
       "      <th>75%</th>\n",
       "      <td>6.000000</td>\n",
       "      <td>140.250000</td>\n",
       "      <td>80.000000</td>\n",
       "      <td>32.000000</td>\n",
       "      <td>127.250000</td>\n",
       "      <td>36.600000</td>\n",
       "      <td>0.626250</td>\n",
       "      <td>41.000000</td>\n",
       "      <td>1.000000</td>\n",
       "    </tr>\n",
       "    <tr>\n",
       "      <th>max</th>\n",
       "      <td>17.000000</td>\n",
       "      <td>199.000000</td>\n",
       "      <td>122.000000</td>\n",
       "      <td>99.000000</td>\n",
       "      <td>846.000000</td>\n",
       "      <td>67.100000</td>\n",
       "      <td>2.420000</td>\n",
       "      <td>81.000000</td>\n",
       "      <td>1.000000</td>\n",
       "    </tr>\n",
       "  </tbody>\n",
       "</table>\n",
       "</div>"
      ],
      "text/plain": [
       "                0           1           2           3           4           5  \\\n",
       "count  768.000000  768.000000  768.000000  768.000000  768.000000  768.000000   \n",
       "mean     3.845052  120.894531   69.105469   20.536458   79.799479   31.992578   \n",
       "std      3.369578   31.972618   19.355807   15.952218  115.244002    7.884160   \n",
       "min      0.000000    0.000000    0.000000    0.000000    0.000000    0.000000   \n",
       "25%      1.000000   99.000000   62.000000    0.000000    0.000000   27.300000   \n",
       "50%      3.000000  117.000000   72.000000   23.000000   30.500000   32.000000   \n",
       "75%      6.000000  140.250000   80.000000   32.000000  127.250000   36.600000   \n",
       "max     17.000000  199.000000  122.000000   99.000000  846.000000   67.100000   \n",
       "\n",
       "                6           7           8  \n",
       "count  768.000000  768.000000  768.000000  \n",
       "mean     0.471876   33.240885    0.348958  \n",
       "std      0.331329   11.760232    0.476951  \n",
       "min      0.078000   21.000000    0.000000  \n",
       "25%      0.243750   24.000000    0.000000  \n",
       "50%      0.372500   29.000000    0.000000  \n",
       "75%      0.626250   41.000000    1.000000  \n",
       "max      2.420000   81.000000    1.000000  "
      ]
     },
     "execution_count": 23,
     "metadata": {},
     "output_type": "execute_result"
    }
   ],
   "source": [
    "df.describe()"
   ]
  },
  {
   "cell_type": "markdown",
   "id": "35e51c93-41ca-4381-acc7-d930e8458838",
   "metadata": {},
   "source": [
    "__Interpretation:__\n",
    "- No titles for each column or feature\n",
    "- Different scales of features"
   ]
  },
  {
   "cell_type": "markdown",
   "id": "b0d6286a-cff3-4b18-9f6c-124edfc26114",
   "metadata": {},
   "source": [
    "__Quick data analysis__\n",
    "\n",
    "The client gave us the definition of each column or feature: \n",
    "1. Number of times pregnant.\n",
    "2. Plasma glucose concentration a 2 hours in an oral glucose tolerance test.\n",
    "3. Diastolic blood pressure (mm Hg).\n",
    "4. Triceps skin fold thickness (mm).\n",
    "5. 2-Hour serum insulin (mu U/ml).\n",
    "6. Body mass index.\n",
    "7. Diabetes pedigree function.\n",
    "8. Age (years).\n",
    "\n",
    "An the target:\n",
    "\n",
    "9. __Class__, onset of diabetes within five years.\n",
    " \n",
    "\n"
   ]
  },
  {
   "cell_type": "markdown",
   "id": "7f05c7e5-ac07-438d-a722-70b6c93753d2",
   "metadata": {},
   "source": [
    "## Step 4: Data preparation\n",
    "\n",
    "Build the feature matrix X, and the label vector Y. \n",
    "\n",
    ">__Note:__ And hide one part of the data!"
   ]
  },
  {
   "cell_type": "code",
   "execution_count": 24,
   "id": "698db0a6-5237-4bae-bd5c-727d5f208fb2",
   "metadata": {},
   "outputs": [
    {
     "name": "stdout",
     "output_type": "stream",
     "text": [
      "[INFO] whole dataset =>  (768, 8) (768,)\n",
      "[INFO] training dataset =>  (614, 8) (614,)\n",
      "[INFO] testing dataset =>  (154, 8) (154,)\n"
     ]
    }
   ],
   "source": [
    "X = df.values[:,0:8]\n",
    "Y = df.values[:,8]\n",
    "print(\"[INFO] whole dataset => \", X.shape, Y.shape)\n",
    "\n",
    "# train test split\n",
    "test_size = 0.20 # 20%\n",
    "X_train, X_test, Y_train, Y_test = train_test_split(X, Y, test_size=test_size, random_state=seed)\n",
    "\n",
    "print(\"[INFO] training dataset => \", X_train.shape, Y_train.shape)\n",
    "print(\"[INFO] testing dataset => \", X_test.shape, Y_test.shape)"
   ]
  },
  {
   "cell_type": "markdown",
   "id": "071ffba6-488d-43f1-a1ce-9a7f4dbdbdcc",
   "metadata": {},
   "source": [
    "## Step 5: Select the baseline model\n",
    "\n",
    ">__Note:__ Here, since it is a simple demo, the baseline model is built directly.\n",
    "\n",
    "We use here the __Keras__ framework that you'll learn in more details later in this training course.\n",
    "\n",
    "However, for the moment, just apply the following guidelines:\n",
    "- create a Sequential model,\n",
    "- add layers one at a time until we are happy with our network topology.\n",
    "\n",
    "The first thing to get right is to ensure the __input layer has the right number of inputs__. It is easy because we know have 8 input variables (e.g. `X.shape[1]`).\n",
    "\n",
    ">__Note:__ How do we know the number of layers to use and their types? This is a very hard question.\n",
    "There are heuristics that we'll learn during this program.\n",
    "\n",
    ">__Note:__ Here you can see the activation functions in action: 'relu' and 'sigmoid' adapted for binary classification output layer. \n",
    "\n",
    ">__Note:__  We will use _logarithmic loss_ which is the most use loss function for binary classification problems. In Keras, it is defined as _binary crossentropy_.\n",
    ">\n",
    "> We will also use the efficient __Adam__ implementation of the __Gradient Descent (GD)__ algorithm. \n",
    ">\n",
    "> Finally, the __accuracy__ metric is selected for measuring the performances of the model. "
   ]
  },
  {
   "cell_type": "markdown",
   "id": "c51452fa-c53a-45d4-84bb-273386ab8919",
   "metadata": {},
   "source": [
    "__Build the model__"
   ]
  },
  {
   "cell_type": "code",
   "execution_count": 25,
   "id": "df898df2-c9b7-4179-8727-8ab173c6f7da",
   "metadata": {},
   "outputs": [
    {
     "data": {
      "text/html": [
       "<pre style=\"white-space:pre;overflow-x:auto;line-height:normal;font-family:Menlo,'DejaVu Sans Mono',consolas,'Courier New',monospace\"><span style=\"font-weight: bold\">Model: \"sequential_2\"</span>\n",
       "</pre>\n"
      ],
      "text/plain": [
       "\u001b[1mModel: \"sequential_2\"\u001b[0m\n"
      ]
     },
     "metadata": {},
     "output_type": "display_data"
    },
    {
     "data": {
      "text/html": [
       "<pre style=\"white-space:pre;overflow-x:auto;line-height:normal;font-family:Menlo,'DejaVu Sans Mono',consolas,'Courier New',monospace\">┏━━━━━━━━━━━━━━━━━━━━━━━━━━━━━━━━━┳━━━━━━━━━━━━━━━━━━━━━━━━┳━━━━━━━━━━━━━━━┓\n",
       "┃<span style=\"font-weight: bold\"> Layer (type)                    </span>┃<span style=\"font-weight: bold\"> Output Shape           </span>┃<span style=\"font-weight: bold\">       Param # </span>┃\n",
       "┡━━━━━━━━━━━━━━━━━━━━━━━━━━━━━━━━━╇━━━━━━━━━━━━━━━━━━━━━━━━╇━━━━━━━━━━━━━━━┩\n",
       "│ dense_4 (<span style=\"color: #0087ff; text-decoration-color: #0087ff\">Dense</span>)                 │ (<span style=\"color: #00d7ff; text-decoration-color: #00d7ff\">None</span>, <span style=\"color: #00af00; text-decoration-color: #00af00\">32</span>)             │           <span style=\"color: #00af00; text-decoration-color: #00af00\">288</span> │\n",
       "├─────────────────────────────────┼────────────────────────┼───────────────┤\n",
       "│ dense_5 (<span style=\"color: #0087ff; text-decoration-color: #0087ff\">Dense</span>)                 │ (<span style=\"color: #00d7ff; text-decoration-color: #00d7ff\">None</span>, <span style=\"color: #00af00; text-decoration-color: #00af00\">1</span>)              │            <span style=\"color: #00af00; text-decoration-color: #00af00\">33</span> │\n",
       "└─────────────────────────────────┴────────────────────────┴───────────────┘\n",
       "</pre>\n"
      ],
      "text/plain": [
       "┏━━━━━━━━━━━━━━━━━━━━━━━━━━━━━━━━━┳━━━━━━━━━━━━━━━━━━━━━━━━┳━━━━━━━━━━━━━━━┓\n",
       "┃\u001b[1m \u001b[0m\u001b[1mLayer (type)                   \u001b[0m\u001b[1m \u001b[0m┃\u001b[1m \u001b[0m\u001b[1mOutput Shape          \u001b[0m\u001b[1m \u001b[0m┃\u001b[1m \u001b[0m\u001b[1m      Param #\u001b[0m\u001b[1m \u001b[0m┃\n",
       "┡━━━━━━━━━━━━━━━━━━━━━━━━━━━━━━━━━╇━━━━━━━━━━━━━━━━━━━━━━━━╇━━━━━━━━━━━━━━━┩\n",
       "│ dense_4 (\u001b[38;5;33mDense\u001b[0m)                 │ (\u001b[38;5;45mNone\u001b[0m, \u001b[38;5;34m32\u001b[0m)             │           \u001b[38;5;34m288\u001b[0m │\n",
       "├─────────────────────────────────┼────────────────────────┼───────────────┤\n",
       "│ dense_5 (\u001b[38;5;33mDense\u001b[0m)                 │ (\u001b[38;5;45mNone\u001b[0m, \u001b[38;5;34m1\u001b[0m)              │            \u001b[38;5;34m33\u001b[0m │\n",
       "└─────────────────────────────────┴────────────────────────┴───────────────┘\n"
      ]
     },
     "metadata": {},
     "output_type": "display_data"
    },
    {
     "data": {
      "text/html": [
       "<pre style=\"white-space:pre;overflow-x:auto;line-height:normal;font-family:Menlo,'DejaVu Sans Mono',consolas,'Courier New',monospace\"><span style=\"font-weight: bold\"> Total params: </span><span style=\"color: #00af00; text-decoration-color: #00af00\">321</span> (1.25 KB)\n",
       "</pre>\n"
      ],
      "text/plain": [
       "\u001b[1m Total params: \u001b[0m\u001b[38;5;34m321\u001b[0m (1.25 KB)\n"
      ]
     },
     "metadata": {},
     "output_type": "display_data"
    },
    {
     "data": {
      "text/html": [
       "<pre style=\"white-space:pre;overflow-x:auto;line-height:normal;font-family:Menlo,'DejaVu Sans Mono',consolas,'Courier New',monospace\"><span style=\"font-weight: bold\"> Trainable params: </span><span style=\"color: #00af00; text-decoration-color: #00af00\">321</span> (1.25 KB)\n",
       "</pre>\n"
      ],
      "text/plain": [
       "\u001b[1m Trainable params: \u001b[0m\u001b[38;5;34m321\u001b[0m (1.25 KB)\n"
      ]
     },
     "metadata": {},
     "output_type": "display_data"
    },
    {
     "data": {
      "text/html": [
       "<pre style=\"white-space:pre;overflow-x:auto;line-height:normal;font-family:Menlo,'DejaVu Sans Mono',consolas,'Courier New',monospace\"><span style=\"font-weight: bold\"> Non-trainable params: </span><span style=\"color: #00af00; text-decoration-color: #00af00\">0</span> (0.00 B)\n",
       "</pre>\n"
      ],
      "text/plain": [
       "\u001b[1m Non-trainable params: \u001b[0m\u001b[38;5;34m0\u001b[0m (0.00 B)\n"
      ]
     },
     "metadata": {},
     "output_type": "display_data"
    }
   ],
   "source": [
    "# Architecture\n",
    "model = Sequential()\n",
    "model.add(Input(shape=(8,))),\n",
    "model.add(Dense(32, activation=\"relu\"))\n",
    "model.add(Dense(1, activation='sigmoid'))\n",
    "\n",
    "model.summary()"
   ]
  },
  {
   "cell_type": "code",
   "execution_count": 26,
   "id": "f011885b-7cd0-4eaa-a14d-f1f27da9d8ff",
   "metadata": {},
   "outputs": [],
   "source": [
    "# Configuration\n",
    "model.compile(\n",
    "    loss=\"binary_crossentropy\",\n",
    "    optimizer=\"adam\",\n",
    "    metrics=[\"accuracy\"]\n",
    ")"
   ]
  },
  {
   "cell_type": "markdown",
   "id": "f0912f9c-6faa-44d2-990f-e22f6ed7e699",
   "metadata": {},
   "source": [
    "__Train the model__"
   ]
  },
  {
   "cell_type": "code",
   "execution_count": 27,
   "id": "8a7da3b1-0c48-4f2a-9e42-f1be1808e8ba",
   "metadata": {},
   "outputs": [
    {
     "name": "stdout",
     "output_type": "stream",
     "text": [
      "Epoch 1/150\n",
      "\u001b[1m62/62\u001b[0m \u001b[32m━━━━━━━━━━━━━━━━━━━━\u001b[0m\u001b[37m\u001b[0m \u001b[1m1s\u001b[0m 4ms/step - accuracy: 0.5201 - loss: 5.1471 - val_accuracy: 0.5909 - val_loss: 2.1682\n",
      "Epoch 2/150\n",
      "\u001b[1m62/62\u001b[0m \u001b[32m━━━━━━━━━━━━━━━━━━━━\u001b[0m\u001b[37m\u001b[0m \u001b[1m0s\u001b[0m 2ms/step - accuracy: 0.5747 - loss: 1.4049 - val_accuracy: 0.6558 - val_loss: 1.1803\n",
      "Epoch 3/150\n",
      "\u001b[1m62/62\u001b[0m \u001b[32m━━━━━━━━━━━━━━━━━━━━\u001b[0m\u001b[37m\u001b[0m \u001b[1m0s\u001b[0m 2ms/step - accuracy: 0.6761 - loss: 0.9825 - val_accuracy: 0.6364 - val_loss: 1.4651\n",
      "Epoch 4/150\n",
      "\u001b[1m62/62\u001b[0m \u001b[32m━━━━━━━━━━━━━━━━━━━━\u001b[0m\u001b[37m\u001b[0m \u001b[1m0s\u001b[0m 2ms/step - accuracy: 0.6136 - loss: 0.9989 - val_accuracy: 0.5714 - val_loss: 0.8400\n",
      "Epoch 5/150\n",
      "\u001b[1m62/62\u001b[0m \u001b[32m━━━━━━━━━━━━━━━━━━━━\u001b[0m\u001b[37m\u001b[0m \u001b[1m0s\u001b[0m 2ms/step - accuracy: 0.6417 - loss: 0.8354 - val_accuracy: 0.6818 - val_loss: 0.7686\n",
      "Epoch 6/150\n",
      "\u001b[1m62/62\u001b[0m \u001b[32m━━━━━━━━━━━━━━━━━━━━\u001b[0m\u001b[37m\u001b[0m \u001b[1m0s\u001b[0m 2ms/step - accuracy: 0.6697 - loss: 0.6798 - val_accuracy: 0.6299 - val_loss: 0.7049\n",
      "Epoch 7/150\n",
      "\u001b[1m62/62\u001b[0m \u001b[32m━━━━━━━━━━━━━━━━━━━━\u001b[0m\u001b[37m\u001b[0m \u001b[1m0s\u001b[0m 2ms/step - accuracy: 0.6711 - loss: 0.7562 - val_accuracy: 0.6623 - val_loss: 0.7419\n",
      "Epoch 8/150\n",
      "\u001b[1m62/62\u001b[0m \u001b[32m━━━━━━━━━━━━━━━━━━━━\u001b[0m\u001b[37m\u001b[0m \u001b[1m0s\u001b[0m 2ms/step - accuracy: 0.6910 - loss: 0.6469 - val_accuracy: 0.7338 - val_loss: 0.6898\n",
      "Epoch 9/150\n",
      "\u001b[1m62/62\u001b[0m \u001b[32m━━━━━━━━━━━━━━━━━━━━\u001b[0m\u001b[37m\u001b[0m \u001b[1m0s\u001b[0m 2ms/step - accuracy: 0.6677 - loss: 0.7317 - val_accuracy: 0.6688 - val_loss: 0.9660\n",
      "Epoch 10/150\n",
      "\u001b[1m62/62\u001b[0m \u001b[32m━━━━━━━━━━━━━━━━━━━━\u001b[0m\u001b[37m\u001b[0m \u001b[1m0s\u001b[0m 3ms/step - accuracy: 0.6827 - loss: 0.6297 - val_accuracy: 0.7013 - val_loss: 0.6664\n",
      "Epoch 11/150\n",
      "\u001b[1m62/62\u001b[0m \u001b[32m━━━━━━━━━━━━━━━━━━━━\u001b[0m\u001b[37m\u001b[0m \u001b[1m0s\u001b[0m 2ms/step - accuracy: 0.7146 - loss: 0.6537 - val_accuracy: 0.6299 - val_loss: 0.7784\n",
      "Epoch 12/150\n",
      "\u001b[1m62/62\u001b[0m \u001b[32m━━━━━━━━━━━━━━━━━━━━\u001b[0m\u001b[37m\u001b[0m \u001b[1m0s\u001b[0m 2ms/step - accuracy: 0.6662 - loss: 0.7043 - val_accuracy: 0.7468 - val_loss: 0.6198\n",
      "Epoch 13/150\n",
      "\u001b[1m62/62\u001b[0m \u001b[32m━━━━━━━━━━━━━━━━━━━━\u001b[0m\u001b[37m\u001b[0m \u001b[1m0s\u001b[0m 3ms/step - accuracy: 0.6837 - loss: 0.6128 - val_accuracy: 0.6688 - val_loss: 0.8318\n",
      "Epoch 14/150\n",
      "\u001b[1m62/62\u001b[0m \u001b[32m━━━━━━━━━━━━━━━━━━━━\u001b[0m\u001b[37m\u001b[0m \u001b[1m0s\u001b[0m 3ms/step - accuracy: 0.6757 - loss: 0.7128 - val_accuracy: 0.7273 - val_loss: 0.6308\n",
      "Epoch 15/150\n",
      "\u001b[1m62/62\u001b[0m \u001b[32m━━━━━━━━━━━━━━━━━━━━\u001b[0m\u001b[37m\u001b[0m \u001b[1m0s\u001b[0m 2ms/step - accuracy: 0.7114 - loss: 0.6141 - val_accuracy: 0.7403 - val_loss: 0.6138\n",
      "Epoch 16/150\n",
      "\u001b[1m62/62\u001b[0m \u001b[32m━━━━━━━━━━━━━━━━━━━━\u001b[0m\u001b[37m\u001b[0m \u001b[1m0s\u001b[0m 2ms/step - accuracy: 0.6998 - loss: 0.6190 - val_accuracy: 0.7013 - val_loss: 0.6827\n",
      "Epoch 17/150\n",
      "\u001b[1m62/62\u001b[0m \u001b[32m━━━━━━━━━━━━━━━━━━━━\u001b[0m\u001b[37m\u001b[0m \u001b[1m0s\u001b[0m 2ms/step - accuracy: 0.7032 - loss: 0.6528 - val_accuracy: 0.7403 - val_loss: 0.6142\n",
      "Epoch 18/150\n",
      "\u001b[1m62/62\u001b[0m \u001b[32m━━━━━━━━━━━━━━━━━━━━\u001b[0m\u001b[37m\u001b[0m \u001b[1m0s\u001b[0m 2ms/step - accuracy: 0.7209 - loss: 0.5905 - val_accuracy: 0.7013 - val_loss: 0.6834\n",
      "Epoch 19/150\n",
      "\u001b[1m62/62\u001b[0m \u001b[32m━━━━━━━━━━━━━━━━━━━━\u001b[0m\u001b[37m\u001b[0m \u001b[1m0s\u001b[0m 2ms/step - accuracy: 0.6713 - loss: 0.6621 - val_accuracy: 0.6753 - val_loss: 0.7224\n",
      "Epoch 20/150\n",
      "\u001b[1m62/62\u001b[0m \u001b[32m━━━━━━━━━━━━━━━━━━━━\u001b[0m\u001b[37m\u001b[0m \u001b[1m0s\u001b[0m 3ms/step - accuracy: 0.6715 - loss: 0.7018 - val_accuracy: 0.7338 - val_loss: 0.6459\n",
      "Epoch 21/150\n",
      "\u001b[1m62/62\u001b[0m \u001b[32m━━━━━━━━━━━━━━━━━━━━\u001b[0m\u001b[37m\u001b[0m \u001b[1m0s\u001b[0m 2ms/step - accuracy: 0.6781 - loss: 0.6153 - val_accuracy: 0.7273 - val_loss: 0.6304\n",
      "Epoch 22/150\n",
      "\u001b[1m62/62\u001b[0m \u001b[32m━━━━━━━━━━━━━━━━━━━━\u001b[0m\u001b[37m\u001b[0m \u001b[1m0s\u001b[0m 3ms/step - accuracy: 0.7003 - loss: 0.5887 - val_accuracy: 0.7208 - val_loss: 0.6617\n",
      "Epoch 23/150\n",
      "\u001b[1m62/62\u001b[0m \u001b[32m━━━━━━━━━━━━━━━━━━━━\u001b[0m\u001b[37m\u001b[0m \u001b[1m0s\u001b[0m 2ms/step - accuracy: 0.6814 - loss: 0.6358 - val_accuracy: 0.7338 - val_loss: 0.6488\n",
      "Epoch 24/150\n",
      "\u001b[1m62/62\u001b[0m \u001b[32m━━━━━━━━━━━━━━━━━━━━\u001b[0m\u001b[37m\u001b[0m \u001b[1m0s\u001b[0m 2ms/step - accuracy: 0.7121 - loss: 0.5973 - val_accuracy: 0.7338 - val_loss: 0.6913\n",
      "Epoch 25/150\n",
      "\u001b[1m62/62\u001b[0m \u001b[32m━━━━━━━━━━━━━━━━━━━━\u001b[0m\u001b[37m\u001b[0m \u001b[1m0s\u001b[0m 3ms/step - accuracy: 0.7237 - loss: 0.5709 - val_accuracy: 0.6948 - val_loss: 0.7127\n",
      "Epoch 26/150\n",
      "\u001b[1m62/62\u001b[0m \u001b[32m━━━━━━━━━━━━━━━━━━━━\u001b[0m\u001b[37m\u001b[0m \u001b[1m0s\u001b[0m 2ms/step - accuracy: 0.7315 - loss: 0.5557 - val_accuracy: 0.7013 - val_loss: 0.6416\n",
      "Epoch 27/150\n",
      "\u001b[1m62/62\u001b[0m \u001b[32m━━━━━━━━━━━━━━━━━━━━\u001b[0m\u001b[37m\u001b[0m \u001b[1m0s\u001b[0m 3ms/step - accuracy: 0.6883 - loss: 0.6198 - val_accuracy: 0.6753 - val_loss: 0.8155\n",
      "Epoch 28/150\n",
      "\u001b[1m62/62\u001b[0m \u001b[32m━━━━━━━━━━━━━━━━━━━━\u001b[0m\u001b[37m\u001b[0m \u001b[1m0s\u001b[0m 2ms/step - accuracy: 0.7029 - loss: 0.6017 - val_accuracy: 0.6818 - val_loss: 0.6772\n",
      "Epoch 29/150\n",
      "\u001b[1m62/62\u001b[0m \u001b[32m━━━━━━━━━━━━━━━━━━━━\u001b[0m\u001b[37m\u001b[0m \u001b[1m0s\u001b[0m 3ms/step - accuracy: 0.7169 - loss: 0.5755 - val_accuracy: 0.7987 - val_loss: 0.6106\n",
      "Epoch 30/150\n",
      "\u001b[1m62/62\u001b[0m \u001b[32m━━━━━━━━━━━━━━━━━━━━\u001b[0m\u001b[37m\u001b[0m \u001b[1m0s\u001b[0m 3ms/step - accuracy: 0.7311 - loss: 0.5408 - val_accuracy: 0.7662 - val_loss: 0.5907\n",
      "Epoch 31/150\n",
      "\u001b[1m62/62\u001b[0m \u001b[32m━━━━━━━━━━━━━━━━━━━━\u001b[0m\u001b[37m\u001b[0m \u001b[1m0s\u001b[0m 2ms/step - accuracy: 0.7371 - loss: 0.5666 - val_accuracy: 0.7532 - val_loss: 0.6174\n",
      "Epoch 32/150\n",
      "\u001b[1m62/62\u001b[0m \u001b[32m━━━━━━━━━━━━━━━━━━━━\u001b[0m\u001b[37m\u001b[0m \u001b[1m0s\u001b[0m 4ms/step - accuracy: 0.7158 - loss: 0.6388 - val_accuracy: 0.7208 - val_loss: 0.6622\n",
      "Epoch 33/150\n",
      "\u001b[1m62/62\u001b[0m \u001b[32m━━━━━━━━━━━━━━━━━━━━\u001b[0m\u001b[37m\u001b[0m \u001b[1m0s\u001b[0m 3ms/step - accuracy: 0.7206 - loss: 0.5683 - val_accuracy: 0.6883 - val_loss: 0.7204\n",
      "Epoch 34/150\n",
      "\u001b[1m62/62\u001b[0m \u001b[32m━━━━━━━━━━━━━━━━━━━━\u001b[0m\u001b[37m\u001b[0m \u001b[1m0s\u001b[0m 2ms/step - accuracy: 0.7235 - loss: 0.5552 - val_accuracy: 0.7338 - val_loss: 0.6365\n",
      "Epoch 35/150\n",
      "\u001b[1m62/62\u001b[0m \u001b[32m━━━━━━━━━━━━━━━━━━━━\u001b[0m\u001b[37m\u001b[0m \u001b[1m0s\u001b[0m 2ms/step - accuracy: 0.7355 - loss: 0.5317 - val_accuracy: 0.6818 - val_loss: 0.7419\n",
      "Epoch 36/150\n",
      "\u001b[1m62/62\u001b[0m \u001b[32m━━━━━━━━━━━━━━━━━━━━\u001b[0m\u001b[37m\u001b[0m \u001b[1m0s\u001b[0m 2ms/step - accuracy: 0.7076 - loss: 0.6261 - val_accuracy: 0.7857 - val_loss: 0.6239\n",
      "Epoch 37/150\n",
      "\u001b[1m62/62\u001b[0m \u001b[32m━━━━━━━━━━━━━━━━━━━━\u001b[0m\u001b[37m\u001b[0m \u001b[1m0s\u001b[0m 2ms/step - accuracy: 0.7489 - loss: 0.5249 - val_accuracy: 0.7727 - val_loss: 0.6330\n",
      "Epoch 38/150\n",
      "\u001b[1m62/62\u001b[0m \u001b[32m━━━━━━━━━━━━━━━━━━━━\u001b[0m\u001b[37m\u001b[0m \u001b[1m0s\u001b[0m 2ms/step - accuracy: 0.7098 - loss: 0.5910 - val_accuracy: 0.7403 - val_loss: 0.6264\n",
      "Epoch 39/150\n",
      "\u001b[1m62/62\u001b[0m \u001b[32m━━━━━━━━━━━━━━━━━━━━\u001b[0m\u001b[37m\u001b[0m \u001b[1m0s\u001b[0m 2ms/step - accuracy: 0.7206 - loss: 0.5460 - val_accuracy: 0.7597 - val_loss: 0.6278\n",
      "Epoch 40/150\n",
      "\u001b[1m62/62\u001b[0m \u001b[32m━━━━━━━━━━━━━━━━━━━━\u001b[0m\u001b[37m\u001b[0m \u001b[1m0s\u001b[0m 2ms/step - accuracy: 0.7086 - loss: 0.5940 - val_accuracy: 0.5974 - val_loss: 0.7592\n",
      "Epoch 41/150\n",
      "\u001b[1m62/62\u001b[0m \u001b[32m━━━━━━━━━━━━━━━━━━━━\u001b[0m\u001b[37m\u001b[0m \u001b[1m0s\u001b[0m 2ms/step - accuracy: 0.7287 - loss: 0.5471 - val_accuracy: 0.6883 - val_loss: 0.6865\n",
      "Epoch 42/150\n",
      "\u001b[1m62/62\u001b[0m \u001b[32m━━━━━━━━━━━━━━━━━━━━\u001b[0m\u001b[37m\u001b[0m \u001b[1m0s\u001b[0m 2ms/step - accuracy: 0.7192 - loss: 0.6117 - val_accuracy: 0.7468 - val_loss: 0.6366\n",
      "Epoch 43/150\n",
      "\u001b[1m62/62\u001b[0m \u001b[32m━━━━━━━━━━━━━━━━━━━━\u001b[0m\u001b[37m\u001b[0m \u001b[1m0s\u001b[0m 2ms/step - accuracy: 0.7524 - loss: 0.5101 - val_accuracy: 0.6688 - val_loss: 0.7405\n",
      "Epoch 44/150\n",
      "\u001b[1m62/62\u001b[0m \u001b[32m━━━━━━━━━━━━━━━━━━━━\u001b[0m\u001b[37m\u001b[0m \u001b[1m0s\u001b[0m 2ms/step - accuracy: 0.7046 - loss: 0.5946 - val_accuracy: 0.6753 - val_loss: 0.7614\n",
      "Epoch 45/150\n",
      "\u001b[1m62/62\u001b[0m \u001b[32m━━━━━━━━━━━━━━━━━━━━\u001b[0m\u001b[37m\u001b[0m \u001b[1m0s\u001b[0m 2ms/step - accuracy: 0.7170 - loss: 0.5990 - val_accuracy: 0.7208 - val_loss: 0.6487\n",
      "Epoch 46/150\n",
      "\u001b[1m62/62\u001b[0m \u001b[32m━━━━━━━━━━━━━━━━━━━━\u001b[0m\u001b[37m\u001b[0m \u001b[1m0s\u001b[0m 3ms/step - accuracy: 0.7168 - loss: 0.5838 - val_accuracy: 0.7532 - val_loss: 0.6620\n",
      "Epoch 47/150\n",
      "\u001b[1m62/62\u001b[0m \u001b[32m━━━━━━━━━━━━━━━━━━━━\u001b[0m\u001b[37m\u001b[0m \u001b[1m0s\u001b[0m 2ms/step - accuracy: 0.7368 - loss: 0.5006 - val_accuracy: 0.6948 - val_loss: 0.6981\n",
      "Epoch 48/150\n",
      "\u001b[1m62/62\u001b[0m \u001b[32m━━━━━━━━━━━━━━━━━━━━\u001b[0m\u001b[37m\u001b[0m \u001b[1m0s\u001b[0m 3ms/step - accuracy: 0.7439 - loss: 0.5374 - val_accuracy: 0.7208 - val_loss: 0.6570\n",
      "Epoch 49/150\n",
      "\u001b[1m62/62\u001b[0m \u001b[32m━━━━━━━━━━━━━━━━━━━━\u001b[0m\u001b[37m\u001b[0m \u001b[1m0s\u001b[0m 4ms/step - accuracy: 0.7456 - loss: 0.5211 - val_accuracy: 0.6494 - val_loss: 0.8718\n",
      "Epoch 50/150\n",
      "\u001b[1m62/62\u001b[0m \u001b[32m━━━━━━━━━━━━━━━━━━━━\u001b[0m\u001b[37m\u001b[0m \u001b[1m0s\u001b[0m 3ms/step - accuracy: 0.7240 - loss: 0.6182 - val_accuracy: 0.7468 - val_loss: 0.6539\n",
      "Epoch 51/150\n",
      "\u001b[1m62/62\u001b[0m \u001b[32m━━━━━━━━━━━━━━━━━━━━\u001b[0m\u001b[37m\u001b[0m \u001b[1m0s\u001b[0m 2ms/step - accuracy: 0.7271 - loss: 0.5421 - val_accuracy: 0.7143 - val_loss: 0.6331\n",
      "Epoch 52/150\n",
      "\u001b[1m62/62\u001b[0m \u001b[32m━━━━━━━━━━━━━━━━━━━━\u001b[0m\u001b[37m\u001b[0m \u001b[1m0s\u001b[0m 3ms/step - accuracy: 0.7477 - loss: 0.5077 - val_accuracy: 0.7013 - val_loss: 0.6880\n",
      "Epoch 53/150\n",
      "\u001b[1m62/62\u001b[0m \u001b[32m━━━━━━━━━━━━━━━━━━━━\u001b[0m\u001b[37m\u001b[0m \u001b[1m0s\u001b[0m 3ms/step - accuracy: 0.7329 - loss: 0.5365 - val_accuracy: 0.6753 - val_loss: 0.7952\n",
      "Epoch 54/150\n",
      "\u001b[1m62/62\u001b[0m \u001b[32m━━━━━━━━━━━━━━━━━━━━\u001b[0m\u001b[37m\u001b[0m \u001b[1m0s\u001b[0m 2ms/step - accuracy: 0.7336 - loss: 0.5808 - val_accuracy: 0.7013 - val_loss: 0.7572\n",
      "Epoch 55/150\n",
      "\u001b[1m62/62\u001b[0m \u001b[32m━━━━━━━━━━━━━━━━━━━━\u001b[0m\u001b[37m\u001b[0m \u001b[1m0s\u001b[0m 2ms/step - accuracy: 0.7310 - loss: 0.5902 - val_accuracy: 0.7792 - val_loss: 0.6354\n",
      "Epoch 56/150\n",
      "\u001b[1m62/62\u001b[0m \u001b[32m━━━━━━━━━━━━━━━━━━━━\u001b[0m\u001b[37m\u001b[0m \u001b[1m0s\u001b[0m 3ms/step - accuracy: 0.7582 - loss: 0.5143 - val_accuracy: 0.7208 - val_loss: 0.7025\n",
      "Epoch 57/150\n",
      "\u001b[1m62/62\u001b[0m \u001b[32m━━━━━━━━━━━━━━━━━━━━\u001b[0m\u001b[37m\u001b[0m \u001b[1m0s\u001b[0m 2ms/step - accuracy: 0.7467 - loss: 0.5222 - val_accuracy: 0.7013 - val_loss: 0.7082\n",
      "Epoch 58/150\n",
      "\u001b[1m62/62\u001b[0m \u001b[32m━━━━━━━━━━━━━━━━━━━━\u001b[0m\u001b[37m\u001b[0m \u001b[1m0s\u001b[0m 2ms/step - accuracy: 0.7020 - loss: 0.5883 - val_accuracy: 0.6948 - val_loss: 0.7278\n",
      "Epoch 59/150\n",
      "\u001b[1m62/62\u001b[0m \u001b[32m━━━━━━━━━━━━━━━━━━━━\u001b[0m\u001b[37m\u001b[0m \u001b[1m0s\u001b[0m 3ms/step - accuracy: 0.6893 - loss: 0.5844 - val_accuracy: 0.7468 - val_loss: 0.6619\n",
      "Epoch 60/150\n",
      "\u001b[1m62/62\u001b[0m \u001b[32m━━━━━━━━━━━━━━━━━━━━\u001b[0m\u001b[37m\u001b[0m \u001b[1m0s\u001b[0m 4ms/step - accuracy: 0.7388 - loss: 0.5388 - val_accuracy: 0.7662 - val_loss: 0.6562\n",
      "Epoch 61/150\n",
      "\u001b[1m62/62\u001b[0m \u001b[32m━━━━━━━━━━━━━━━━━━━━\u001b[0m\u001b[37m\u001b[0m \u001b[1m0s\u001b[0m 2ms/step - accuracy: 0.7296 - loss: 0.5470 - val_accuracy: 0.7078 - val_loss: 0.6978\n",
      "Epoch 62/150\n",
      "\u001b[1m62/62\u001b[0m \u001b[32m━━━━━━━━━━━━━━━━━━━━\u001b[0m\u001b[37m\u001b[0m \u001b[1m0s\u001b[0m 2ms/step - accuracy: 0.7292 - loss: 0.5488 - val_accuracy: 0.7078 - val_loss: 0.6821\n",
      "Epoch 63/150\n",
      "\u001b[1m62/62\u001b[0m \u001b[32m━━━━━━━━━━━━━━━━━━━━\u001b[0m\u001b[37m\u001b[0m \u001b[1m0s\u001b[0m 2ms/step - accuracy: 0.7717 - loss: 0.4818 - val_accuracy: 0.7468 - val_loss: 0.7149\n",
      "Epoch 64/150\n",
      "\u001b[1m62/62\u001b[0m \u001b[32m━━━━━━━━━━━━━━━━━━━━\u001b[0m\u001b[37m\u001b[0m \u001b[1m0s\u001b[0m 3ms/step - accuracy: 0.7458 - loss: 0.5499 - val_accuracy: 0.7143 - val_loss: 0.6777\n",
      "Epoch 65/150\n",
      "\u001b[1m62/62\u001b[0m \u001b[32m━━━━━━━━━━━━━━━━━━━━\u001b[0m\u001b[37m\u001b[0m \u001b[1m0s\u001b[0m 3ms/step - accuracy: 0.7022 - loss: 0.5436 - val_accuracy: 0.7468 - val_loss: 0.6716\n",
      "Epoch 66/150\n",
      "\u001b[1m62/62\u001b[0m \u001b[32m━━━━━━━━━━━━━━━━━━━━\u001b[0m\u001b[37m\u001b[0m \u001b[1m0s\u001b[0m 2ms/step - accuracy: 0.7661 - loss: 0.5099 - val_accuracy: 0.7792 - val_loss: 0.6449\n",
      "Epoch 67/150\n",
      "\u001b[1m62/62\u001b[0m \u001b[32m━━━━━━━━━━━━━━━━━━━━\u001b[0m\u001b[37m\u001b[0m \u001b[1m0s\u001b[0m 2ms/step - accuracy: 0.7591 - loss: 0.5251 - val_accuracy: 0.7403 - val_loss: 0.6811\n",
      "Epoch 68/150\n",
      "\u001b[1m62/62\u001b[0m \u001b[32m━━━━━━━━━━━━━━━━━━━━\u001b[0m\u001b[37m\u001b[0m \u001b[1m0s\u001b[0m 3ms/step - accuracy: 0.7369 - loss: 0.5552 - val_accuracy: 0.6558 - val_loss: 0.9330\n",
      "Epoch 69/150\n",
      "\u001b[1m62/62\u001b[0m \u001b[32m━━━━━━━━━━━━━━━━━━━━\u001b[0m\u001b[37m\u001b[0m \u001b[1m0s\u001b[0m 2ms/step - accuracy: 0.6841 - loss: 0.7137 - val_accuracy: 0.7403 - val_loss: 0.6502\n",
      "Epoch 70/150\n",
      "\u001b[1m62/62\u001b[0m \u001b[32m━━━━━━━━━━━━━━━━━━━━\u001b[0m\u001b[37m\u001b[0m \u001b[1m0s\u001b[0m 3ms/step - accuracy: 0.7898 - loss: 0.4898 - val_accuracy: 0.7597 - val_loss: 0.6614\n",
      "Epoch 71/150\n",
      "\u001b[1m62/62\u001b[0m \u001b[32m━━━━━━━━━━━━━━━━━━━━\u001b[0m\u001b[37m\u001b[0m \u001b[1m0s\u001b[0m 3ms/step - accuracy: 0.7626 - loss: 0.4833 - val_accuracy: 0.6753 - val_loss: 0.7167\n",
      "Epoch 72/150\n",
      "\u001b[1m62/62\u001b[0m \u001b[32m━━━━━━━━━━━━━━━━━━━━\u001b[0m\u001b[37m\u001b[0m \u001b[1m0s\u001b[0m 2ms/step - accuracy: 0.7141 - loss: 0.5972 - val_accuracy: 0.7013 - val_loss: 0.7527\n",
      "Epoch 73/150\n",
      "\u001b[1m62/62\u001b[0m \u001b[32m━━━━━━━━━━━━━━━━━━━━\u001b[0m\u001b[37m\u001b[0m \u001b[1m0s\u001b[0m 3ms/step - accuracy: 0.7716 - loss: 0.4641 - val_accuracy: 0.7403 - val_loss: 0.6754\n",
      "Epoch 74/150\n",
      "\u001b[1m62/62\u001b[0m \u001b[32m━━━━━━━━━━━━━━━━━━━━\u001b[0m\u001b[37m\u001b[0m \u001b[1m0s\u001b[0m 3ms/step - accuracy: 0.7288 - loss: 0.5023 - val_accuracy: 0.7597 - val_loss: 0.6556\n",
      "Epoch 75/150\n",
      "\u001b[1m62/62\u001b[0m \u001b[32m━━━━━━━━━━━━━━━━━━━━\u001b[0m\u001b[37m\u001b[0m \u001b[1m0s\u001b[0m 4ms/step - accuracy: 0.7546 - loss: 0.4990 - val_accuracy: 0.7143 - val_loss: 0.6994\n",
      "Epoch 76/150\n",
      "\u001b[1m62/62\u001b[0m \u001b[32m━━━━━━━━━━━━━━━━━━━━\u001b[0m\u001b[37m\u001b[0m \u001b[1m0s\u001b[0m 3ms/step - accuracy: 0.7408 - loss: 0.5363 - val_accuracy: 0.6948 - val_loss: 0.7219\n",
      "Epoch 77/150\n",
      "\u001b[1m62/62\u001b[0m \u001b[32m━━━━━━━━━━━━━━━━━━━━\u001b[0m\u001b[37m\u001b[0m \u001b[1m0s\u001b[0m 3ms/step - accuracy: 0.7272 - loss: 0.5715 - val_accuracy: 0.7143 - val_loss: 0.7142\n",
      "Epoch 78/150\n",
      "\u001b[1m62/62\u001b[0m \u001b[32m━━━━━━━━━━━━━━━━━━━━\u001b[0m\u001b[37m\u001b[0m \u001b[1m0s\u001b[0m 3ms/step - accuracy: 0.7364 - loss: 0.5039 - val_accuracy: 0.7208 - val_loss: 0.7069\n",
      "Epoch 79/150\n",
      "\u001b[1m62/62\u001b[0m \u001b[32m━━━━━━━━━━━━━━━━━━━━\u001b[0m\u001b[37m\u001b[0m \u001b[1m0s\u001b[0m 2ms/step - accuracy: 0.7494 - loss: 0.5318 - val_accuracy: 0.7532 - val_loss: 0.6840\n",
      "Epoch 80/150\n",
      "\u001b[1m62/62\u001b[0m \u001b[32m━━━━━━━━━━━━━━━━━━━━\u001b[0m\u001b[37m\u001b[0m \u001b[1m0s\u001b[0m 3ms/step - accuracy: 0.7522 - loss: 0.5445 - val_accuracy: 0.6883 - val_loss: 0.7403\n",
      "Epoch 81/150\n",
      "\u001b[1m62/62\u001b[0m \u001b[32m━━━━━━━━━━━━━━━━━━━━\u001b[0m\u001b[37m\u001b[0m \u001b[1m0s\u001b[0m 3ms/step - accuracy: 0.7569 - loss: 0.5391 - val_accuracy: 0.7597 - val_loss: 0.6734\n",
      "Epoch 82/150\n",
      "\u001b[1m62/62\u001b[0m \u001b[32m━━━━━━━━━━━━━━━━━━━━\u001b[0m\u001b[37m\u001b[0m \u001b[1m0s\u001b[0m 3ms/step - accuracy: 0.7580 - loss: 0.5029 - val_accuracy: 0.5584 - val_loss: 0.9454\n",
      "Epoch 83/150\n",
      "\u001b[1m62/62\u001b[0m \u001b[32m━━━━━━━━━━━━━━━━━━━━\u001b[0m\u001b[37m\u001b[0m \u001b[1m0s\u001b[0m 3ms/step - accuracy: 0.7014 - loss: 0.5738 - val_accuracy: 0.7013 - val_loss: 0.7449\n",
      "Epoch 84/150\n",
      "\u001b[1m62/62\u001b[0m \u001b[32m━━━━━━━━━━━━━━━━━━━━\u001b[0m\u001b[37m\u001b[0m \u001b[1m0s\u001b[0m 3ms/step - accuracy: 0.7531 - loss: 0.5169 - val_accuracy: 0.7078 - val_loss: 0.7587\n",
      "Epoch 85/150\n",
      "\u001b[1m62/62\u001b[0m \u001b[32m━━━━━━━━━━━━━━━━━━━━\u001b[0m\u001b[37m\u001b[0m \u001b[1m0s\u001b[0m 2ms/step - accuracy: 0.7511 - loss: 0.5344 - val_accuracy: 0.7468 - val_loss: 0.6917\n",
      "Epoch 86/150\n",
      "\u001b[1m62/62\u001b[0m \u001b[32m━━━━━━━━━━━━━━━━━━━━\u001b[0m\u001b[37m\u001b[0m \u001b[1m0s\u001b[0m 4ms/step - accuracy: 0.7280 - loss: 0.4983 - val_accuracy: 0.7468 - val_loss: 0.6848\n",
      "Epoch 87/150\n",
      "\u001b[1m62/62\u001b[0m \u001b[32m━━━━━━━━━━━━━━━━━━━━\u001b[0m\u001b[37m\u001b[0m \u001b[1m0s\u001b[0m 3ms/step - accuracy: 0.7735 - loss: 0.4626 - val_accuracy: 0.7468 - val_loss: 0.6649\n",
      "Epoch 88/150\n",
      "\u001b[1m62/62\u001b[0m \u001b[32m━━━━━━━━━━━━━━━━━━━━\u001b[0m\u001b[37m\u001b[0m \u001b[1m0s\u001b[0m 3ms/step - accuracy: 0.7738 - loss: 0.4941 - val_accuracy: 0.7532 - val_loss: 0.6684\n",
      "Epoch 89/150\n",
      "\u001b[1m62/62\u001b[0m \u001b[32m━━━━━━━━━━━━━━━━━━━━\u001b[0m\u001b[37m\u001b[0m \u001b[1m0s\u001b[0m 2ms/step - accuracy: 0.7527 - loss: 0.5018 - val_accuracy: 0.6818 - val_loss: 0.7343\n",
      "Epoch 90/150\n",
      "\u001b[1m62/62\u001b[0m \u001b[32m━━━━━━━━━━━━━━━━━━━━\u001b[0m\u001b[37m\u001b[0m \u001b[1m0s\u001b[0m 2ms/step - accuracy: 0.7630 - loss: 0.5111 - val_accuracy: 0.7468 - val_loss: 0.6915\n",
      "Epoch 91/150\n",
      "\u001b[1m62/62\u001b[0m \u001b[32m━━━━━━━━━━━━━━━━━━━━\u001b[0m\u001b[37m\u001b[0m \u001b[1m0s\u001b[0m 2ms/step - accuracy: 0.7694 - loss: 0.5114 - val_accuracy: 0.7338 - val_loss: 0.6788\n",
      "Epoch 92/150\n",
      "\u001b[1m62/62\u001b[0m \u001b[32m━━━━━━━━━━━━━━━━━━━━\u001b[0m\u001b[37m\u001b[0m \u001b[1m0s\u001b[0m 3ms/step - accuracy: 0.7400 - loss: 0.5095 - val_accuracy: 0.7403 - val_loss: 0.6659\n",
      "Epoch 93/150\n",
      "\u001b[1m62/62\u001b[0m \u001b[32m━━━━━━━━━━━━━━━━━━━━\u001b[0m\u001b[37m\u001b[0m \u001b[1m0s\u001b[0m 2ms/step - accuracy: 0.7369 - loss: 0.5140 - val_accuracy: 0.7662 - val_loss: 0.6827\n",
      "Epoch 94/150\n",
      "\u001b[1m62/62\u001b[0m \u001b[32m━━━━━━━━━━━━━━━━━━━━\u001b[0m\u001b[37m\u001b[0m \u001b[1m0s\u001b[0m 3ms/step - accuracy: 0.7647 - loss: 0.5211 - val_accuracy: 0.7532 - val_loss: 0.7236\n",
      "Epoch 95/150\n",
      "\u001b[1m62/62\u001b[0m \u001b[32m━━━━━━━━━━━━━━━━━━━━\u001b[0m\u001b[37m\u001b[0m \u001b[1m0s\u001b[0m 3ms/step - accuracy: 0.7303 - loss: 0.4989 - val_accuracy: 0.7532 - val_loss: 0.6768\n",
      "Epoch 96/150\n",
      "\u001b[1m62/62\u001b[0m \u001b[32m━━━━━━━━━━━━━━━━━━━━\u001b[0m\u001b[37m\u001b[0m \u001b[1m0s\u001b[0m 2ms/step - accuracy: 0.7176 - loss: 0.5076 - val_accuracy: 0.7662 - val_loss: 0.6732\n",
      "Epoch 97/150\n",
      "\u001b[1m62/62\u001b[0m \u001b[32m━━━━━━━━━━━━━━━━━━━━\u001b[0m\u001b[37m\u001b[0m \u001b[1m0s\u001b[0m 4ms/step - accuracy: 0.7734 - loss: 0.4951 - val_accuracy: 0.6753 - val_loss: 0.8357\n",
      "Epoch 98/150\n",
      "\u001b[1m62/62\u001b[0m \u001b[32m━━━━━━━━━━━━━━━━━━━━\u001b[0m\u001b[37m\u001b[0m \u001b[1m0s\u001b[0m 2ms/step - accuracy: 0.7616 - loss: 0.5095 - val_accuracy: 0.7597 - val_loss: 0.6811\n",
      "Epoch 99/150\n",
      "\u001b[1m62/62\u001b[0m \u001b[32m━━━━━━━━━━━━━━━━━━━━\u001b[0m\u001b[37m\u001b[0m \u001b[1m0s\u001b[0m 3ms/step - accuracy: 0.7640 - loss: 0.4991 - val_accuracy: 0.7857 - val_loss: 0.6692\n",
      "Epoch 100/150\n",
      "\u001b[1m62/62\u001b[0m \u001b[32m━━━━━━━━━━━━━━━━━━━━\u001b[0m\u001b[37m\u001b[0m \u001b[1m0s\u001b[0m 3ms/step - accuracy: 0.7487 - loss: 0.5016 - val_accuracy: 0.7403 - val_loss: 0.6975\n",
      "Epoch 101/150\n",
      "\u001b[1m62/62\u001b[0m \u001b[32m━━━━━━━━━━━━━━━━━━━━\u001b[0m\u001b[37m\u001b[0m \u001b[1m0s\u001b[0m 3ms/step - accuracy: 0.7554 - loss: 0.4986 - val_accuracy: 0.7727 - val_loss: 0.6878\n",
      "Epoch 102/150\n",
      "\u001b[1m62/62\u001b[0m \u001b[32m━━━━━━━━━━━━━━━━━━━━\u001b[0m\u001b[37m\u001b[0m \u001b[1m0s\u001b[0m 3ms/step - accuracy: 0.7930 - loss: 0.4595 - val_accuracy: 0.6753 - val_loss: 0.7948\n",
      "Epoch 103/150\n",
      "\u001b[1m62/62\u001b[0m \u001b[32m━━━━━━━━━━━━━━━━━━━━\u001b[0m\u001b[37m\u001b[0m \u001b[1m0s\u001b[0m 3ms/step - accuracy: 0.7369 - loss: 0.5309 - val_accuracy: 0.7727 - val_loss: 0.6764\n",
      "Epoch 104/150\n",
      "\u001b[1m62/62\u001b[0m \u001b[32m━━━━━━━━━━━━━━━━━━━━\u001b[0m\u001b[37m\u001b[0m \u001b[1m0s\u001b[0m 3ms/step - accuracy: 0.7771 - loss: 0.4542 - val_accuracy: 0.7013 - val_loss: 0.8629\n",
      "Epoch 105/150\n",
      "\u001b[1m62/62\u001b[0m \u001b[32m━━━━━━━━━━━━━━━━━━━━\u001b[0m\u001b[37m\u001b[0m \u001b[1m0s\u001b[0m 2ms/step - accuracy: 0.7401 - loss: 0.5657 - val_accuracy: 0.7078 - val_loss: 0.7595\n",
      "Epoch 106/150\n",
      "\u001b[1m62/62\u001b[0m \u001b[32m━━━━━━━━━━━━━━━━━━━━\u001b[0m\u001b[37m\u001b[0m \u001b[1m0s\u001b[0m 3ms/step - accuracy: 0.7604 - loss: 0.5029 - val_accuracy: 0.7532 - val_loss: 0.6613\n",
      "Epoch 107/150\n",
      "\u001b[1m62/62\u001b[0m \u001b[32m━━━━━━━━━━━━━━━━━━━━\u001b[0m\u001b[37m\u001b[0m \u001b[1m0s\u001b[0m 2ms/step - accuracy: 0.7311 - loss: 0.4641 - val_accuracy: 0.7143 - val_loss: 0.7186\n",
      "Epoch 108/150\n",
      "\u001b[1m62/62\u001b[0m \u001b[32m━━━━━━━━━━━━━━━━━━━━\u001b[0m\u001b[37m\u001b[0m \u001b[1m0s\u001b[0m 3ms/step - accuracy: 0.7800 - loss: 0.4753 - val_accuracy: 0.7273 - val_loss: 0.7390\n",
      "Epoch 109/150\n",
      "\u001b[1m62/62\u001b[0m \u001b[32m━━━━━━━━━━━━━━━━━━━━\u001b[0m\u001b[37m\u001b[0m \u001b[1m0s\u001b[0m 3ms/step - accuracy: 0.7688 - loss: 0.4799 - val_accuracy: 0.7727 - val_loss: 0.6652\n",
      "Epoch 110/150\n",
      "\u001b[1m62/62\u001b[0m \u001b[32m━━━━━━━━━━━━━━━━━━━━\u001b[0m\u001b[37m\u001b[0m \u001b[1m0s\u001b[0m 2ms/step - accuracy: 0.7713 - loss: 0.5078 - val_accuracy: 0.7143 - val_loss: 0.7332\n",
      "Epoch 111/150\n",
      "\u001b[1m62/62\u001b[0m \u001b[32m━━━━━━━━━━━━━━━━━━━━\u001b[0m\u001b[37m\u001b[0m \u001b[1m0s\u001b[0m 3ms/step - accuracy: 0.7642 - loss: 0.4671 - val_accuracy: 0.7597 - val_loss: 0.7187\n",
      "Epoch 112/150\n",
      "\u001b[1m62/62\u001b[0m \u001b[32m━━━━━━━━━━━━━━━━━━━━\u001b[0m\u001b[37m\u001b[0m \u001b[1m0s\u001b[0m 2ms/step - accuracy: 0.7674 - loss: 0.5249 - val_accuracy: 0.7532 - val_loss: 0.6779\n",
      "Epoch 113/150\n",
      "\u001b[1m62/62\u001b[0m \u001b[32m━━━━━━━━━━━━━━━━━━━━\u001b[0m\u001b[37m\u001b[0m \u001b[1m0s\u001b[0m 3ms/step - accuracy: 0.7626 - loss: 0.4832 - val_accuracy: 0.7208 - val_loss: 0.7066\n",
      "Epoch 114/150\n",
      "\u001b[1m62/62\u001b[0m \u001b[32m━━━━━━━━━━━━━━━━━━━━\u001b[0m\u001b[37m\u001b[0m \u001b[1m0s\u001b[0m 3ms/step - accuracy: 0.7808 - loss: 0.4904 - val_accuracy: 0.6883 - val_loss: 0.8389\n",
      "Epoch 115/150\n",
      "\u001b[1m62/62\u001b[0m \u001b[32m━━━━━━━━━━━━━━━━━━━━\u001b[0m\u001b[37m\u001b[0m \u001b[1m0s\u001b[0m 3ms/step - accuracy: 0.7388 - loss: 0.5634 - val_accuracy: 0.6948 - val_loss: 0.7518\n",
      "Epoch 116/150\n",
      "\u001b[1m62/62\u001b[0m \u001b[32m━━━━━━━━━━━━━━━━━━━━\u001b[0m\u001b[37m\u001b[0m \u001b[1m0s\u001b[0m 3ms/step - accuracy: 0.7283 - loss: 0.5617 - val_accuracy: 0.7208 - val_loss: 0.7197\n",
      "Epoch 117/150\n",
      "\u001b[1m62/62\u001b[0m \u001b[32m━━━━━━━━━━━━━━━━━━━━\u001b[0m\u001b[37m\u001b[0m \u001b[1m0s\u001b[0m 3ms/step - accuracy: 0.7786 - loss: 0.4902 - val_accuracy: 0.7468 - val_loss: 0.7453\n",
      "Epoch 118/150\n",
      "\u001b[1m62/62\u001b[0m \u001b[32m━━━━━━━━━━━━━━━━━━━━\u001b[0m\u001b[37m\u001b[0m \u001b[1m0s\u001b[0m 3ms/step - accuracy: 0.7212 - loss: 0.4902 - val_accuracy: 0.7338 - val_loss: 0.7032\n",
      "Epoch 119/150\n",
      "\u001b[1m62/62\u001b[0m \u001b[32m━━━━━━━━━━━━━━━━━━━━\u001b[0m\u001b[37m\u001b[0m \u001b[1m0s\u001b[0m 3ms/step - accuracy: 0.8000 - loss: 0.4482 - val_accuracy: 0.7273 - val_loss: 0.6895\n",
      "Epoch 120/150\n",
      "\u001b[1m62/62\u001b[0m \u001b[32m━━━━━━━━━━━━━━━━━━━━\u001b[0m\u001b[37m\u001b[0m \u001b[1m0s\u001b[0m 2ms/step - accuracy: 0.7549 - loss: 0.4940 - val_accuracy: 0.7078 - val_loss: 0.7363\n",
      "Epoch 121/150\n",
      "\u001b[1m62/62\u001b[0m \u001b[32m━━━━━━━━━━━━━━━━━━━━\u001b[0m\u001b[37m\u001b[0m \u001b[1m0s\u001b[0m 3ms/step - accuracy: 0.7697 - loss: 0.4700 - val_accuracy: 0.7208 - val_loss: 0.7091\n",
      "Epoch 122/150\n",
      "\u001b[1m62/62\u001b[0m \u001b[32m━━━━━━━━━━━━━━━━━━━━\u001b[0m\u001b[37m\u001b[0m \u001b[1m0s\u001b[0m 2ms/step - accuracy: 0.7433 - loss: 0.5139 - val_accuracy: 0.7597 - val_loss: 0.6847\n",
      "Epoch 123/150\n",
      "\u001b[1m62/62\u001b[0m \u001b[32m━━━━━━━━━━━━━━━━━━━━\u001b[0m\u001b[37m\u001b[0m \u001b[1m0s\u001b[0m 3ms/step - accuracy: 0.7584 - loss: 0.4905 - val_accuracy: 0.7078 - val_loss: 0.7713\n",
      "Epoch 124/150\n",
      "\u001b[1m62/62\u001b[0m \u001b[32m━━━━━━━━━━━━━━━━━━━━\u001b[0m\u001b[37m\u001b[0m \u001b[1m0s\u001b[0m 3ms/step - accuracy: 0.7385 - loss: 0.4948 - val_accuracy: 0.7468 - val_loss: 0.6940\n",
      "Epoch 125/150\n",
      "\u001b[1m62/62\u001b[0m \u001b[32m━━━━━━━━━━━━━━━━━━━━\u001b[0m\u001b[37m\u001b[0m \u001b[1m0s\u001b[0m 3ms/step - accuracy: 0.7838 - loss: 0.4522 - val_accuracy: 0.7078 - val_loss: 0.7843\n",
      "Epoch 126/150\n",
      "\u001b[1m62/62\u001b[0m \u001b[32m━━━━━━━━━━━━━━━━━━━━\u001b[0m\u001b[37m\u001b[0m \u001b[1m0s\u001b[0m 3ms/step - accuracy: 0.7452 - loss: 0.5373 - val_accuracy: 0.7338 - val_loss: 0.7718\n",
      "Epoch 127/150\n",
      "\u001b[1m62/62\u001b[0m \u001b[32m━━━━━━━━━━━━━━━━━━━━\u001b[0m\u001b[37m\u001b[0m \u001b[1m0s\u001b[0m 3ms/step - accuracy: 0.7616 - loss: 0.4843 - val_accuracy: 0.6883 - val_loss: 0.8419\n",
      "Epoch 128/150\n",
      "\u001b[1m62/62\u001b[0m \u001b[32m━━━━━━━━━━━━━━━━━━━━\u001b[0m\u001b[37m\u001b[0m \u001b[1m0s\u001b[0m 3ms/step - accuracy: 0.7567 - loss: 0.4980 - val_accuracy: 0.7468 - val_loss: 0.7302\n",
      "Epoch 129/150\n",
      "\u001b[1m62/62\u001b[0m \u001b[32m━━━━━━━━━━━━━━━━━━━━\u001b[0m\u001b[37m\u001b[0m \u001b[1m0s\u001b[0m 2ms/step - accuracy: 0.7540 - loss: 0.4785 - val_accuracy: 0.7532 - val_loss: 0.7077\n",
      "Epoch 130/150\n",
      "\u001b[1m62/62\u001b[0m \u001b[32m━━━━━━━━━━━━━━━━━━━━\u001b[0m\u001b[37m\u001b[0m \u001b[1m0s\u001b[0m 2ms/step - accuracy: 0.7415 - loss: 0.4764 - val_accuracy: 0.6688 - val_loss: 0.8548\n",
      "Epoch 131/150\n",
      "\u001b[1m62/62\u001b[0m \u001b[32m━━━━━━━━━━━━━━━━━━━━\u001b[0m\u001b[37m\u001b[0m \u001b[1m0s\u001b[0m 3ms/step - accuracy: 0.7426 - loss: 0.5217 - val_accuracy: 0.7208 - val_loss: 0.7351\n",
      "Epoch 132/150\n",
      "\u001b[1m62/62\u001b[0m \u001b[32m━━━━━━━━━━━━━━━━━━━━\u001b[0m\u001b[37m\u001b[0m \u001b[1m0s\u001b[0m 3ms/step - accuracy: 0.7924 - loss: 0.4617 - val_accuracy: 0.7338 - val_loss: 0.7335\n",
      "Epoch 133/150\n",
      "\u001b[1m62/62\u001b[0m \u001b[32m━━━━━━━━━━━━━━━━━━━━\u001b[0m\u001b[37m\u001b[0m \u001b[1m0s\u001b[0m 3ms/step - accuracy: 0.7625 - loss: 0.5014 - val_accuracy: 0.6818 - val_loss: 0.8106\n",
      "Epoch 134/150\n",
      "\u001b[1m62/62\u001b[0m \u001b[32m━━━━━━━━━━━━━━━━━━━━\u001b[0m\u001b[37m\u001b[0m \u001b[1m0s\u001b[0m 3ms/step - accuracy: 0.7690 - loss: 0.4932 - val_accuracy: 0.7338 - val_loss: 0.6993\n",
      "Epoch 135/150\n",
      "\u001b[1m62/62\u001b[0m \u001b[32m━━━━━━━━━━━━━━━━━━━━\u001b[0m\u001b[37m\u001b[0m \u001b[1m0s\u001b[0m 3ms/step - accuracy: 0.7504 - loss: 0.5141 - val_accuracy: 0.7338 - val_loss: 0.7096\n",
      "Epoch 136/150\n",
      "\u001b[1m62/62\u001b[0m \u001b[32m━━━━━━━━━━━━━━━━━━━━\u001b[0m\u001b[37m\u001b[0m \u001b[1m0s\u001b[0m 3ms/step - accuracy: 0.7721 - loss: 0.4619 - val_accuracy: 0.7468 - val_loss: 0.7370\n",
      "Epoch 137/150\n",
      "\u001b[1m62/62\u001b[0m \u001b[32m━━━━━━━━━━━━━━━━━━━━\u001b[0m\u001b[37m\u001b[0m \u001b[1m0s\u001b[0m 2ms/step - accuracy: 0.7649 - loss: 0.4378 - val_accuracy: 0.7597 - val_loss: 0.7208\n",
      "Epoch 138/150\n",
      "\u001b[1m62/62\u001b[0m \u001b[32m━━━━━━━━━━━━━━━━━━━━\u001b[0m\u001b[37m\u001b[0m \u001b[1m0s\u001b[0m 3ms/step - accuracy: 0.7747 - loss: 0.4718 - val_accuracy: 0.7468 - val_loss: 0.7178\n",
      "Epoch 139/150\n",
      "\u001b[1m62/62\u001b[0m \u001b[32m━━━━━━━━━━━━━━━━━━━━\u001b[0m\u001b[37m\u001b[0m \u001b[1m0s\u001b[0m 3ms/step - accuracy: 0.7751 - loss: 0.4505 - val_accuracy: 0.7338 - val_loss: 0.7425\n",
      "Epoch 140/150\n",
      "\u001b[1m62/62\u001b[0m \u001b[32m━━━━━━━━━━━━━━━━━━━━\u001b[0m\u001b[37m\u001b[0m \u001b[1m0s\u001b[0m 2ms/step - accuracy: 0.7445 - loss: 0.5028 - val_accuracy: 0.7662 - val_loss: 0.7228\n",
      "Epoch 141/150\n",
      "\u001b[1m62/62\u001b[0m \u001b[32m━━━━━━━━━━━━━━━━━━━━\u001b[0m\u001b[37m\u001b[0m \u001b[1m0s\u001b[0m 2ms/step - accuracy: 0.7716 - loss: 0.4759 - val_accuracy: 0.7468 - val_loss: 0.6941\n",
      "Epoch 142/150\n",
      "\u001b[1m62/62\u001b[0m \u001b[32m━━━━━━━━━━━━━━━━━━━━\u001b[0m\u001b[37m\u001b[0m \u001b[1m0s\u001b[0m 3ms/step - accuracy: 0.7855 - loss: 0.4309 - val_accuracy: 0.7143 - val_loss: 0.8046\n",
      "Epoch 143/150\n",
      "\u001b[1m62/62\u001b[0m \u001b[32m━━━━━━━━━━━━━━━━━━━━\u001b[0m\u001b[37m\u001b[0m \u001b[1m0s\u001b[0m 3ms/step - accuracy: 0.7555 - loss: 0.5022 - val_accuracy: 0.7468 - val_loss: 0.7136\n",
      "Epoch 144/150\n",
      "\u001b[1m62/62\u001b[0m \u001b[32m━━━━━━━━━━━━━━━━━━━━\u001b[0m\u001b[37m\u001b[0m \u001b[1m0s\u001b[0m 3ms/step - accuracy: 0.7455 - loss: 0.4591 - val_accuracy: 0.7468 - val_loss: 0.7094\n",
      "Epoch 145/150\n",
      "\u001b[1m62/62\u001b[0m \u001b[32m━━━━━━━━━━━━━━━━━━━━\u001b[0m\u001b[37m\u001b[0m \u001b[1m0s\u001b[0m 3ms/step - accuracy: 0.7658 - loss: 0.4967 - val_accuracy: 0.7532 - val_loss: 0.7272\n",
      "Epoch 146/150\n",
      "\u001b[1m62/62\u001b[0m \u001b[32m━━━━━━━━━━━━━━━━━━━━\u001b[0m\u001b[37m\u001b[0m \u001b[1m0s\u001b[0m 3ms/step - accuracy: 0.7598 - loss: 0.4978 - val_accuracy: 0.7338 - val_loss: 0.7620\n",
      "Epoch 147/150\n",
      "\u001b[1m62/62\u001b[0m \u001b[32m━━━━━━━━━━━━━━━━━━━━\u001b[0m\u001b[37m\u001b[0m \u001b[1m0s\u001b[0m 3ms/step - accuracy: 0.7756 - loss: 0.4642 - val_accuracy: 0.6948 - val_loss: 0.8653\n",
      "Epoch 148/150\n",
      "\u001b[1m62/62\u001b[0m \u001b[32m━━━━━━━━━━━━━━━━━━━━\u001b[0m\u001b[37m\u001b[0m \u001b[1m0s\u001b[0m 3ms/step - accuracy: 0.7881 - loss: 0.4760 - val_accuracy: 0.7662 - val_loss: 0.7095\n",
      "Epoch 149/150\n",
      "\u001b[1m62/62\u001b[0m \u001b[32m━━━━━━━━━━━━━━━━━━━━\u001b[0m\u001b[37m\u001b[0m \u001b[1m0s\u001b[0m 2ms/step - accuracy: 0.7913 - loss: 0.4422 - val_accuracy: 0.7468 - val_loss: 0.7240\n",
      "Epoch 150/150\n",
      "\u001b[1m62/62\u001b[0m \u001b[32m━━━━━━━━━━━━━━━━━━━━\u001b[0m\u001b[37m\u001b[0m \u001b[1m0s\u001b[0m 3ms/step - accuracy: 0.8015 - loss: 0.4233 - val_accuracy: 0.6883 - val_loss: 0.8380\n"
     ]
    }
   ],
   "source": [
    "history = model.fit(\n",
    "    x=X_train, \n",
    "    y=Y_train, \n",
    "    epochs=150, \n",
    "    batch_size=10,\n",
    "    validation_data=(X_test, Y_test)\n",
    "    #,\n",
    "    #verbose=2\n",
    ")"
   ]
  },
  {
   "cell_type": "markdown",
   "id": "64ab377e-7fb1-473e-92e2-50cc0d6b131b",
   "metadata": {},
   "source": [
    "__Learning curves__"
   ]
  },
  {
   "cell_type": "code",
   "execution_count": 28,
   "id": "f065d79d-1b6b-4e2b-9417-b5fa7ff929db",
   "metadata": {},
   "outputs": [
    {
     "name": "stdout",
     "output_type": "stream",
     "text": [
      "dict_keys(['accuracy', 'loss', 'val_accuracy', 'val_loss'])\n"
     ]
    },
    {
     "data": {
      "image/png": "[encoded data removed]",
      "text/plain": [
       "<Figure size 640x480 with 1 Axes>"
      ]
     },
     "metadata": {},
     "output_type": "display_data"
    },
    {
     "data": {
      "image/png": "[encoded data removed]",
      "text/plain": [
       "<Figure size 640x480 with 1 Axes>"
      ]
     },
     "metadata": {},
     "output_type": "display_data"
    }
   ],
   "source": [
    "# check entries in the history \n",
    "print(history.history.keys()) # => dict_keys(['accuracy', 'loss', 'val_accuracy', 'val_loss'])\n",
    "\n",
    "# summarize history for accuracy\n",
    "plt.plot(history.history[\"accuracy\"])\n",
    "plt.plot(history.history[\"val_accuracy\"])\n",
    "plt.title('model accuracy')\n",
    "plt.ylabel('accuracy')\n",
    "plt.xlabel('epoch')\n",
    "plt.legend(['train', 'validation'], loc='upper left')\n",
    "plt.show()\n",
    "\n",
    "# summarize history for loss\n",
    "plt.plot(history.history['loss'])\n",
    "plt.plot(history.history['val_loss'])\n",
    "plt.title('model loss')\n",
    "plt.ylabel('loss')\n",
    "plt.xlabel('epoch')\n",
    "plt.legend(['train', 'test'], loc='upper left')\n",
    "plt.show()\n"
   ]
  },
  {
   "cell_type": "markdown",
   "id": "5f1b71e6-4d5e-4b13-a515-a2eaf7e934c8",
   "metadata": {},
   "source": [
    "__Evaluate the model on test data__"
   ]
  },
  {
   "cell_type": "code",
   "execution_count": 29,
   "id": "32d41864-692a-483e-80c2-6c256951032a",
   "metadata": {},
   "outputs": [
    {
     "name": "stdout",
     "output_type": "stream",
     "text": [
      "\u001b[1m5/5\u001b[0m \u001b[32m━━━━━━━━━━━━━━━━━━━━\u001b[0m\u001b[37m\u001b[0m \u001b[1m0s\u001b[0m 5ms/step - accuracy: 0.7173 - loss: 0.7347 \n",
      "\n",
      "[INFO] Model Val Accuracy: 68.83%, Error: 31.17%\n"
     ]
    }
   ],
   "source": [
    "# Final evaluation of the model\n",
    "scores = model.evaluate(\n",
    "    x=X_test, \n",
    "    y=Y_test\n",
    ")\n",
    "\n",
    "print(\"\\n[INFO] Model Val Accuracy: %.2f%%, Error: %.2f%%\" % (scores[1]*100, 100-scores[1]*100))"
   ]
  },
  {
   "cell_type": "markdown",
   "id": "17a5da30-b09c-4b7b-b91c-c50a50de7f3e",
   "metadata": {},
   "source": [
    "__Finalizing the model__\n",
    "\n",
    ">__Note:__ Actually the performance is very poor. In real life, the AI Developer SHOULD improve his/her model before delivery to the client! \n",
    "\n",
    "Here, we imagine we are satisfied with the model performances. Then we finalize it by running the following steps: \n",
    "1. Train the final model on all the training data \n",
    "1. Evaluate the target model\n",
    "1. Save it locally on the disk\n",
    "\n",
    ">__Note:__ These steps are not performed here because it is out of the scope of the demo."
   ]
  },
  {
   "cell_type": "markdown",
   "id": "126b224a-e673-4ebe-a16c-cfea17124815",
   "metadata": {},
   "source": [
    "__END OF NOTEBOOK.__"
   ]
  },
  {
   "cell_type": "code",
   "execution_count": null,
   "id": "67849440-c56a-4a3a-84ec-4a5c7c0c1873",
   "metadata": {},
   "outputs": [],
   "source": []
  }
 ],
 "metadata": {
  "kernelspec": {
   "display_name": "kernel-venv-ai-dev-training-tf-py3.12.0",
   "language": "python",
   "name": "kernel-venv-ai-dev-training-tf-py3.12.0"
  },
  "language_info": {
   "codemirror_mode": {
    "name": "ipython",
    "version": 3
   },
   "file_extension": ".py",
   "mimetype": "text/x-python",
   "name": "python",
   "nbconvert_exporter": "python",
   "pygments_lexer": "ipython3",
   "version": "3.12.0"
  }
 },
 "nbformat": 4,
 "nbformat_minor": 5
}
