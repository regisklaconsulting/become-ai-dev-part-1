{
  "cells": [
    {
      "cell_type": "markdown",
      "id": "c12f43ca-d703-4737-adb6-2b0210ecc297",
      "metadata": {
        "id": "c12f43ca-d703-4737-adb6-2b0210ecc297"
      },
      "source": [
        "# MNIST Classifier - Hello World of Deep Learnin (DL)! - Colab version\n",
        "<hr/>"
      ]
    },
    {
      "cell_type": "markdown",
      "id": "446f1021-feb4-4fcf-ac18-f1770a739dd0",
      "metadata": {
        "id": "446f1021-feb4-4fcf-ac18-f1770a739dd0"
      },
      "source": [
        "## Introduction\n",
        "\n",
        "See the notebooks of the same directory for details.\n",
        "\n",
        "This notebook is just an adaptation of the corresponding notebook to Google Colab.\n",
        "\n",
        "__Key indicators for this Notebook__\n",
        "\n",
        "- batch size = 64\n",
        "- nb epochs = 10\n",
        "- architecture =\n",
        "   - 2 hidden conv2D layers of 32 and 64 units respectively,\n",
        "   - 1 dropout of 50%\n",
        "   - 1 output dense layer of 10 units with softmax activation function  \n",
        "   - Trainable params = 34,826 (136.04 KB)\n",
        "- Training average time = 63 seconds\n",
        "- val accuracy = 99.11%"
      ]
    },
    {
      "cell_type": "code",
      "execution_count": 22,
      "id": "3e9158d5-0247-4f6d-9a04-49dc14b44e62",
      "metadata": {
        "colab": {
          "base_uri": "https://localhost:8080/"
        },
        "id": "3e9158d5-0247-4f6d-9a04-49dc14b44e62",
        "outputId": "2914765d-1fc1-4ccb-b383-c59fcb8c231e"
      },
      "outputs": [
        {
          "output_type": "stream",
          "name": "stdout",
          "text": [
            "[INFO] IN_COLAB = True.\n"
          ]
        }
      ],
      "source": [
        "try:\n",
        "  import google.colab\n",
        "  IN_COLAB = True\n",
        "except:\n",
        "  IN_COLAB = False\n",
        "\n",
        "print(f\"[INFO] IN_COLAB = {IN_COLAB}.\")"
      ]
    },
    {
      "cell_type": "markdown",
      "id": "VN2u7rOOMzUM",
      "metadata": {
        "id": "VN2u7rOOMzUM"
      },
      "source": [
        "## Upload data from local filesystem to Colab\n",
        "\n",
        "__Manual upload__\n",
        "\n",
        "Use the left menu _Files > Upload >..._ or use the following code. The uploaded files will be available here: `/content/`.\n",
        "\n",
        "__Upload with code__"
      ]
    },
    {
      "cell_type": "code",
      "execution_count": 23,
      "id": "rhIfYUi3M4VD",
      "metadata": {
        "id": "rhIfYUi3M4VD"
      },
      "outputs": [],
      "source": [
        "# if IN_COLAB:\n",
        "#    from google.colab import files\n",
        "#    uploaded = files.upload()\n",
        "#\n",
        "#    for fn in uploaded.keys():\n",
        "#      print('[INFO] User uploaded file \"{name}\" with length {length} bytes'.format(\n",
        "#          name=fn, length=len(uploaded[fn])))"
      ]
    },
    {
      "cell_type": "markdown",
      "id": "q9jgJOyWTczp",
      "metadata": {
        "id": "q9jgJOyWTczp"
      },
      "source": [
        "## Install (exotic) packages"
      ]
    },
    {
      "cell_type": "code",
      "execution_count": 24,
      "id": "NfBrSCcJTb75",
      "metadata": {
        "colab": {
          "base_uri": "https://localhost:8080/"
        },
        "id": "NfBrSCcJTb75",
        "outputId": "a86776b6-bfdd-4137-dfdc-789b683d6c08"
      },
      "outputs": [
        {
          "output_type": "stream",
          "name": "stdout",
          "text": [
            "Requirement already satisfied: idx2numpy in /usr/local/lib/python3.11/dist-packages (1.2.3)\n",
            "Requirement already satisfied: numpy in /usr/local/lib/python3.11/dist-packages (from idx2numpy) (1.26.4)\n",
            "Requirement already satisfied: six in /usr/local/lib/python3.11/dist-packages (from idx2numpy) (1.17.0)\n"
          ]
        }
      ],
      "source": [
        "if IN_COLAB:\n",
        "    !pip install idx2numpy"
      ]
    },
    {
      "cell_type": "markdown",
      "id": "27d918a0-7eeb-4ffb-961d-8fca8a000981",
      "metadata": {
        "id": "27d918a0-7eeb-4ffb-961d-8fca8a000981"
      },
      "source": [
        "## Imports"
      ]
    },
    {
      "cell_type": "code",
      "execution_count": 25,
      "id": "a2a03d4f-fca3-4072-b511-5d70b3cccbb2",
      "metadata": {
        "id": "a2a03d4f-fca3-4072-b511-5d70b3cccbb2"
      },
      "outputs": [],
      "source": [
        "import os\n",
        "import time\n",
        "import idx2numpy\n",
        "import numpy as np ; np.random.seed(42)\n",
        "import matplotlib.pyplot as plt\n",
        "import matplotlib.image as mpimg\n",
        "import tensorflow as tf ; tf.random.set_seed(42)\n",
        "\n",
        "from PIL import Image\n",
        "from tensorflow.keras.models import Sequential\n",
        "from tensorflow.keras.layers import Input, Dense, Dropout, Flatten, Conv2D, MaxPool2D\n",
        "from tensorflow.keras.utils import to_categorical\n",
        "from mpl_toolkits.axes_grid1 import ImageGrid"
      ]
    },
    {
      "cell_type": "markdown",
      "id": "69f826b0-b7e3-4a77-a047-bb4f33d64f9c",
      "metadata": {
        "id": "69f826b0-b7e3-4a77-a047-bb4f33d64f9c"
      },
      "source": [
        "## Hardware"
      ]
    },
    {
      "cell_type": "code",
      "execution_count": 26,
      "id": "056e4cb9-60e4-4b62-acfd-689f96b507cc",
      "metadata": {
        "colab": {
          "base_uri": "https://localhost:8080/"
        },
        "id": "056e4cb9-60e4-4b62-acfd-689f96b507cc",
        "outputId": "7a1c6965-bc8a-4569-9b65-35b82b306383"
      },
      "outputs": [
        {
          "output_type": "stream",
          "name": "stdout",
          "text": [
            "[INFO] Num CPUs: 1 , list =  [PhysicalDevice(name='/physical_device:CPU:0', device_type='CPU')]\n",
            "[INFO] Num GPUs: 1 , list =  [PhysicalDevice(name='/physical_device:GPU:0', device_type='GPU')]\n"
          ]
        }
      ],
      "source": [
        "CPUS = tf.config.list_physical_devices('CPU')\n",
        "GPUS = tf.config.list_physical_devices('GPU')\n",
        "\n",
        "print(\"[INFO] Num CPUs:\", len(CPUS), \", list = \", CPUS)\n",
        "print(\"[INFO] Num GPUs:\", len(GPUS), \", list = \", GPUS)"
      ]
    },
    {
      "cell_type": "markdown",
      "id": "7ae7700a-1f3b-4b3b-981d-be0426f9c5b9",
      "metadata": {
        "id": "7ae7700a-1f3b-4b3b-981d-be0426f9c5b9"
      },
      "source": [
        "## Notebook parameters"
      ]
    },
    {
      "cell_type": "code",
      "execution_count": 27,
      "id": "cd585e9b-03ea-41df-8dec-267a919d657c",
      "metadata": {
        "id": "cd585e9b-03ea-41df-8dec-267a919d657c"
      },
      "outputs": [],
      "source": [
        "# NumPy\n",
        "\n",
        "np.set_printoptions(linewidth=200) # to enlarge the print() line\n",
        "np.random.seed(42) # the random seed init\n",
        "np.set_printoptions(precision=3) # for numpy floats: number of decimals\n",
        "\n",
        "# TF: disable TF debug logging messages\n",
        "os.environ['TF_CPP_MIN_LOG_LEVEL'] = '3'"
      ]
    },
    {
      "cell_type": "markdown",
      "id": "0835150e-8aa4-44d5-af61-ff7704391d8c",
      "metadata": {
        "id": "0835150e-8aa4-44d5-af61-ff7704391d8c"
      },
      "source": [
        "## Globals & hyperparameters"
      ]
    },
    {
      "cell_type": "code",
      "execution_count": 28,
      "id": "8ca2974f-7b59-4022-9285-349de938cf2c",
      "metadata": {
        "colab": {
          "base_uri": "https://localhost:8080/"
        },
        "id": "8ca2974f-7b59-4022-9285-349de938cf2c",
        "outputId": "9258039c-5ac3-4483-a38b-3d02d38de901"
      },
      "outputs": [
        {
          "output_type": "stream",
          "name": "stdout",
          "text": [
            "/content/train-images-idx3-ubyte\n",
            "/content/train-labels-idx1-ubyte\n",
            "/content/t10k-images-idx3-ubyte\n",
            "/content/t10k-labels-idx1-ubyte\n"
          ]
        }
      ],
      "source": [
        "# =============\n",
        "# DATA_TOPDIR\n",
        "# =============\n",
        "\n",
        "# on COLAB\n",
        "DATA_TOPDIR = \"/content\"\n",
        "\n",
        "# =======\n",
        "# MNIST\n",
        "# =======\n",
        "\n",
        "# dataset files\n",
        "TRAIN_IMAGES_DATASET_FILE = os.path.join(DATA_TOPDIR, \"train-images-idx3-ubyte\")\n",
        "assert os.path.exists(TRAIN_IMAGES_DATASET_FILE)\n",
        "\n",
        "TRAIN_LABELS_DATASET_FILE = os.path.join(DATA_TOPDIR, \"train-labels-idx1-ubyte\")\n",
        "assert os.path.exists(TRAIN_LABELS_DATASET_FILE)\n",
        "\n",
        "TEST_IMAGES_DATASET_FILE = os.path.join(DATA_TOPDIR, \"t10k-images-idx3-ubyte\")\n",
        "assert os.path.exists(TEST_IMAGES_DATASET_FILE)\n",
        "\n",
        "TEST_LABELS_DATASET_FILE = os.path.join(DATA_TOPDIR, \"t10k-labels-idx1-ubyte\")\n",
        "assert os.path.exists(TEST_LABELS_DATASET_FILE)\n",
        "\n",
        "print(TRAIN_IMAGES_DATASET_FILE)\n",
        "print(TRAIN_LABELS_DATASET_FILE)\n",
        "print(TEST_IMAGES_DATASET_FILE)\n",
        "print(TEST_LABELS_DATASET_FILE)\n",
        "\n",
        "# The MNIST images format\n",
        "num_pixels = 28 * 28\n",
        "\n",
        "# the total number of digits\n",
        "num_classes = 10\n",
        "\n",
        "# ==========================\n",
        "# Training hyperparameters\n",
        "# ==========================\n",
        "\n",
        "epochs = 10\n",
        "\n",
        "batch_size = 64\n",
        "\n",
        "# =======\n",
        "# Demo\n",
        "# =======\n",
        "\n",
        "# Demo dir: where demonstration images are placed\n",
        "DEMO_DIR = os.path.join(DATA_TOPDIR, \"demo\")\n",
        "os.makedirs(DEMO_DIR, exist_ok=True)\n",
        "\n",
        "# for demo images\n",
        "nb_demo = 10\n",
        "demo_prefix = \"demo_img_\"\n"
      ]
    },
    {
      "cell_type": "markdown",
      "id": "cd193bc2-de05-4cff-94a6-a26fee328bd3",
      "metadata": {
        "id": "cd193bc2-de05-4cff-94a6-a26fee328bd3"
      },
      "source": [
        "## Data Preparation (Part I)\n",
        "\n",
        ">__Note:__ In this notebook, all the steps regarding the understanding of the data are skipped. Indeed, in practice Data Scientist spend __80%__ of their time here!\n",
        "\n"
      ]
    },
    {
      "cell_type": "code",
      "execution_count": 29,
      "id": "bd84508a-1edb-4154-af46-e123a46f5bf3",
      "metadata": {
        "id": "bd84508a-1edb-4154-af46-e123a46f5bf3"
      },
      "outputs": [],
      "source": [
        "# 1. Read each dataset into a conventional numpy 2D array\n",
        "train_x_ndarray = idx2numpy.convert_from_file(TRAIN_IMAGES_DATASET_FILE)\n",
        "train_y_ndarray = idx2numpy.convert_from_file(TRAIN_LABELS_DATASET_FILE)\n",
        "\n",
        "test_x_ndarray = idx2numpy.convert_from_file(TEST_IMAGES_DATASET_FILE)\n",
        "test_y_ndarray = idx2numpy.convert_from_file(TEST_LABELS_DATASET_FILE)"
      ]
    },
    {
      "cell_type": "code",
      "execution_count": 30,
      "id": "3d2760f4-0690-4fa7-9769-c9bb70880185",
      "metadata": {
        "colab": {
          "base_uri": "https://localhost:8080/",
          "height": 1000
        },
        "id": "3d2760f4-0690-4fa7-9769-c9bb70880185",
        "outputId": "d06c3a30-06d6-465b-fb1a-a71cb64b849a"
      },
      "outputs": [
        {
          "output_type": "stream",
          "name": "stdout",
          "text": [
            "(60000, 28, 28) (60000,)\n",
            "train_x_ndarray[0] = \n",
            "[[  0   0   0   0   0   0   0   0   0   0   0   0   0   0   0   0   0   0   0   0   0   0   0   0   0   0   0   0]\n",
            " [  0   0   0   0   0   0   0   0   0   0   0   0   0   0   0   0   0   0   0   0   0   0   0   0   0   0   0   0]\n",
            " [  0   0   0   0   0   0   0   0   0   0   0   0   0   0   0   0   0   0   0   0   0   0   0   0   0   0   0   0]\n",
            " [  0   0   0   0   0   0   0   0   0   0   0   0   0   0   0   0   0   0   0   0   0   0   0   0   0   0   0   0]\n",
            " [  0   0   0   0   0   0   0   0   0   0   0   0   0   0   0   0   0   0   0   0   0   0   0   0   0   0   0   0]\n",
            " [  0   0   0   0   0   0   0   0   0   0   0   0   3  18  18  18 126 136 175  26 166 255 247 127   0   0   0   0]\n",
            " [  0   0   0   0   0   0   0   0  30  36  94 154 170 253 253 253 253 253 225 172 253 242 195  64   0   0   0   0]\n",
            " [  0   0   0   0   0   0   0  49 238 253 253 253 253 253 253 253 253 251  93  82  82  56  39   0   0   0   0   0]\n",
            " [  0   0   0   0   0   0   0  18 219 253 253 253 253 253 198 182 247 241   0   0   0   0   0   0   0   0   0   0]\n",
            " [  0   0   0   0   0   0   0   0  80 156 107 253 253 205  11   0  43 154   0   0   0   0   0   0   0   0   0   0]\n",
            " [  0   0   0   0   0   0   0   0   0  14   1 154 253  90   0   0   0   0   0   0   0   0   0   0   0   0   0   0]\n",
            " [  0   0   0   0   0   0   0   0   0   0   0 139 253 190   2   0   0   0   0   0   0   0   0   0   0   0   0   0]\n",
            " [  0   0   0   0   0   0   0   0   0   0   0  11 190 253  70   0   0   0   0   0   0   0   0   0   0   0   0   0]\n",
            " [  0   0   0   0   0   0   0   0   0   0   0   0  35 241 225 160 108   1   0   0   0   0   0   0   0   0   0   0]\n",
            " [  0   0   0   0   0   0   0   0   0   0   0   0   0  81 240 253 253 119  25   0   0   0   0   0   0   0   0   0]\n",
            " [  0   0   0   0   0   0   0   0   0   0   0   0   0   0  45 186 253 253 150  27   0   0   0   0   0   0   0   0]\n",
            " [  0   0   0   0   0   0   0   0   0   0   0   0   0   0   0  16  93 252 253 187   0   0   0   0   0   0   0   0]\n",
            " [  0   0   0   0   0   0   0   0   0   0   0   0   0   0   0   0   0 249 253 249  64   0   0   0   0   0   0   0]\n",
            " [  0   0   0   0   0   0   0   0   0   0   0   0   0   0  46 130 183 253 253 207   2   0   0   0   0   0   0   0]\n",
            " [  0   0   0   0   0   0   0   0   0   0   0   0  39 148 229 253 253 253 250 182   0   0   0   0   0   0   0   0]\n",
            " [  0   0   0   0   0   0   0   0   0   0  24 114 221 253 253 253 253 201  78   0   0   0   0   0   0   0   0   0]\n",
            " [  0   0   0   0   0   0   0   0  23  66 213 253 253 253 253 198  81   2   0   0   0   0   0   0   0   0   0   0]\n",
            " [  0   0   0   0   0   0  18 171 219 253 253 253 253 195  80   9   0   0   0   0   0   0   0   0   0   0   0   0]\n",
            " [  0   0   0   0  55 172 226 253 253 253 253 244 133  11   0   0   0   0   0   0   0   0   0   0   0   0   0   0]\n",
            " [  0   0   0   0 136 253 253 253 212 135 132  16   0   0   0   0   0   0   0   0   0   0   0   0   0   0   0   0]\n",
            " [  0   0   0   0   0   0   0   0   0   0   0   0   0   0   0   0   0   0   0   0   0   0   0   0   0   0   0   0]\n",
            " [  0   0   0   0   0   0   0   0   0   0   0   0   0   0   0   0   0   0   0   0   0   0   0   0   0   0   0   0]\n",
            " [  0   0   0   0   0   0   0   0   0   0   0   0   0   0   0   0   0   0   0   0   0   0   0   0   0   0   0   0]], \n",
            "train_y_ndarray[0] = 5\n",
            "(28, 28) ()\n"
          ]
        },
        {
          "output_type": "execute_result",
          "data": {
            "text/plain": [
              "<matplotlib.image.AxesImage at 0x7a65d02a14d0>"
            ]
          },
          "metadata": {},
          "execution_count": 30
        },
        {
          "output_type": "display_data",
          "data": {
            "text/plain": [
              "<Figure size 640x480 with 1 Axes>"
            ],
            "image/png": "[encoded data removed]"
          },
          "metadata": {}
        }
      ],
      "source": [
        "# quick check\n",
        "print(train_x_ndarray.shape, train_y_ndarray.shape) # => (60000, 28, 28) (60000,)\n",
        "print(f\"train_x_ndarray[0] = \\n{train_x_ndarray[0]}, \\ntrain_y_ndarray[0] = {train_y_ndarray[0]}\" )\n",
        "print(train_x_ndarray[0].shape, train_y_ndarray[0].shape) # => (28, 28) ()\n",
        "plt.imshow(train_x_ndarray[0], cmap='gray')"
      ]
    },
    {
      "cell_type": "markdown",
      "id": "04f09af4-c9f1-4cad-a69a-bd8f4612f530",
      "metadata": {
        "id": "04f09af4-c9f1-4cad-a69a-bd8f4612f530"
      },
      "source": [
        "## Model construction & configuration\n",
        "\n",
        ">__Note:__ In this notebook, all the steps regarding the (best) model selection and evaluation are skipped. We propose directly the best model architecture: a __Convolutional Neural Network (CNN)__"
      ]
    },
    {
      "cell_type": "code",
      "execution_count": 31,
      "id": "851eea54-53e4-4cbc-bac4-884d3c798374",
      "metadata": {
        "colab": {
          "base_uri": "https://localhost:8080/",
          "height": 353
        },
        "id": "851eea54-53e4-4cbc-bac4-884d3c798374",
        "outputId": "ddff2504-42cf-4536-f5f1-aed0cf579ca0"
      },
      "outputs": [
        {
          "output_type": "display_data",
          "data": {
            "text/plain": [
              "\u001b[1mModel: \"sequential_1\"\u001b[0m\n"
            ],
            "text/html": [
              "<pre style=\"white-space:pre;overflow-x:auto;line-height:normal;font-family:Menlo,'DejaVu Sans Mono',consolas,'Courier New',monospace\"><span style=\"font-weight: bold\">Model: \"sequential_1\"</span>\n",
              "</pre>\n"
            ]
          },
          "metadata": {}
        },
        {
          "output_type": "display_data",
          "data": {
            "text/plain": [
              "┏━━━━━━━━━━━━━━━━━━━━━━━━━━━━━━━━━━━━━━┳━━━━━━━━━━━━━━━━━━━━━━━━━━━━━┳━━━━━━━━━━━━━━━━━┓\n",
              "┃\u001b[1m \u001b[0m\u001b[1mLayer (type)                        \u001b[0m\u001b[1m \u001b[0m┃\u001b[1m \u001b[0m\u001b[1mOutput Shape               \u001b[0m\u001b[1m \u001b[0m┃\u001b[1m \u001b[0m\u001b[1m        Param #\u001b[0m\u001b[1m \u001b[0m┃\n",
              "┡━━━━━━━━━━━━━━━━━━━━━━━━━━━━━━━━━━━━━━╇━━━━━━━━━━━━━━━━━━━━━━━━━━━━━╇━━━━━━━━━━━━━━━━━┩\n",
              "│ conv2d_2 (\u001b[38;5;33mConv2D\u001b[0m)                    │ (\u001b[38;5;45mNone\u001b[0m, \u001b[38;5;34m26\u001b[0m, \u001b[38;5;34m26\u001b[0m, \u001b[38;5;34m32\u001b[0m)          │             \u001b[38;5;34m320\u001b[0m │\n",
              "├──────────────────────────────────────┼─────────────────────────────┼─────────────────┤\n",
              "│ max_pooling2d_2 (\u001b[38;5;33mMaxPooling2D\u001b[0m)       │ (\u001b[38;5;45mNone\u001b[0m, \u001b[38;5;34m13\u001b[0m, \u001b[38;5;34m13\u001b[0m, \u001b[38;5;34m32\u001b[0m)          │               \u001b[38;5;34m0\u001b[0m │\n",
              "├──────────────────────────────────────┼─────────────────────────────┼─────────────────┤\n",
              "│ conv2d_3 (\u001b[38;5;33mConv2D\u001b[0m)                    │ (\u001b[38;5;45mNone\u001b[0m, \u001b[38;5;34m11\u001b[0m, \u001b[38;5;34m11\u001b[0m, \u001b[38;5;34m64\u001b[0m)          │          \u001b[38;5;34m18,496\u001b[0m │\n",
              "├──────────────────────────────────────┼─────────────────────────────┼─────────────────┤\n",
              "│ max_pooling2d_3 (\u001b[38;5;33mMaxPooling2D\u001b[0m)       │ (\u001b[38;5;45mNone\u001b[0m, \u001b[38;5;34m5\u001b[0m, \u001b[38;5;34m5\u001b[0m, \u001b[38;5;34m64\u001b[0m)            │               \u001b[38;5;34m0\u001b[0m │\n",
              "├──────────────────────────────────────┼─────────────────────────────┼─────────────────┤\n",
              "│ flatten_1 (\u001b[38;5;33mFlatten\u001b[0m)                  │ (\u001b[38;5;45mNone\u001b[0m, \u001b[38;5;34m1600\u001b[0m)                │               \u001b[38;5;34m0\u001b[0m │\n",
              "├──────────────────────────────────────┼─────────────────────────────┼─────────────────┤\n",
              "│ dropout_1 (\u001b[38;5;33mDropout\u001b[0m)                  │ (\u001b[38;5;45mNone\u001b[0m, \u001b[38;5;34m1600\u001b[0m)                │               \u001b[38;5;34m0\u001b[0m │\n",
              "├──────────────────────────────────────┼─────────────────────────────┼─────────────────┤\n",
              "│ dense_1 (\u001b[38;5;33mDense\u001b[0m)                      │ (\u001b[38;5;45mNone\u001b[0m, \u001b[38;5;34m10\u001b[0m)                  │          \u001b[38;5;34m16,010\u001b[0m │\n",
              "└──────────────────────────────────────┴─────────────────────────────┴─────────────────┘\n"
            ],
            "text/html": [
              "<pre style=\"white-space:pre;overflow-x:auto;line-height:normal;font-family:Menlo,'DejaVu Sans Mono',consolas,'Courier New',monospace\">┏━━━━━━━━━━━━━━━━━━━━━━━━━━━━━━━━━━━━━━┳━━━━━━━━━━━━━━━━━━━━━━━━━━━━━┳━━━━━━━━━━━━━━━━━┓\n",
              "┃<span style=\"font-weight: bold\"> Layer (type)                         </span>┃<span style=\"font-weight: bold\"> Output Shape                </span>┃<span style=\"font-weight: bold\">         Param # </span>┃\n",
              "┡━━━━━━━━━━━━━━━━━━━━━━━━━━━━━━━━━━━━━━╇━━━━━━━━━━━━━━━━━━━━━━━━━━━━━╇━━━━━━━━━━━━━━━━━┩\n",
              "│ conv2d_2 (<span style=\"color: #0087ff; text-decoration-color: #0087ff\">Conv2D</span>)                    │ (<span style=\"color: #00d7ff; text-decoration-color: #00d7ff\">None</span>, <span style=\"color: #00af00; text-decoration-color: #00af00\">26</span>, <span style=\"color: #00af00; text-decoration-color: #00af00\">26</span>, <span style=\"color: #00af00; text-decoration-color: #00af00\">32</span>)          │             <span style=\"color: #00af00; text-decoration-color: #00af00\">320</span> │\n",
              "├──────────────────────────────────────┼─────────────────────────────┼─────────────────┤\n",
              "│ max_pooling2d_2 (<span style=\"color: #0087ff; text-decoration-color: #0087ff\">MaxPooling2D</span>)       │ (<span style=\"color: #00d7ff; text-decoration-color: #00d7ff\">None</span>, <span style=\"color: #00af00; text-decoration-color: #00af00\">13</span>, <span style=\"color: #00af00; text-decoration-color: #00af00\">13</span>, <span style=\"color: #00af00; text-decoration-color: #00af00\">32</span>)          │               <span style=\"color: #00af00; text-decoration-color: #00af00\">0</span> │\n",
              "├──────────────────────────────────────┼─────────────────────────────┼─────────────────┤\n",
              "│ conv2d_3 (<span style=\"color: #0087ff; text-decoration-color: #0087ff\">Conv2D</span>)                    │ (<span style=\"color: #00d7ff; text-decoration-color: #00d7ff\">None</span>, <span style=\"color: #00af00; text-decoration-color: #00af00\">11</span>, <span style=\"color: #00af00; text-decoration-color: #00af00\">11</span>, <span style=\"color: #00af00; text-decoration-color: #00af00\">64</span>)          │          <span style=\"color: #00af00; text-decoration-color: #00af00\">18,496</span> │\n",
              "├──────────────────────────────────────┼─────────────────────────────┼─────────────────┤\n",
              "│ max_pooling2d_3 (<span style=\"color: #0087ff; text-decoration-color: #0087ff\">MaxPooling2D</span>)       │ (<span style=\"color: #00d7ff; text-decoration-color: #00d7ff\">None</span>, <span style=\"color: #00af00; text-decoration-color: #00af00\">5</span>, <span style=\"color: #00af00; text-decoration-color: #00af00\">5</span>, <span style=\"color: #00af00; text-decoration-color: #00af00\">64</span>)            │               <span style=\"color: #00af00; text-decoration-color: #00af00\">0</span> │\n",
              "├──────────────────────────────────────┼─────────────────────────────┼─────────────────┤\n",
              "│ flatten_1 (<span style=\"color: #0087ff; text-decoration-color: #0087ff\">Flatten</span>)                  │ (<span style=\"color: #00d7ff; text-decoration-color: #00d7ff\">None</span>, <span style=\"color: #00af00; text-decoration-color: #00af00\">1600</span>)                │               <span style=\"color: #00af00; text-decoration-color: #00af00\">0</span> │\n",
              "├──────────────────────────────────────┼─────────────────────────────┼─────────────────┤\n",
              "│ dropout_1 (<span style=\"color: #0087ff; text-decoration-color: #0087ff\">Dropout</span>)                  │ (<span style=\"color: #00d7ff; text-decoration-color: #00d7ff\">None</span>, <span style=\"color: #00af00; text-decoration-color: #00af00\">1600</span>)                │               <span style=\"color: #00af00; text-decoration-color: #00af00\">0</span> │\n",
              "├──────────────────────────────────────┼─────────────────────────────┼─────────────────┤\n",
              "│ dense_1 (<span style=\"color: #0087ff; text-decoration-color: #0087ff\">Dense</span>)                      │ (<span style=\"color: #00d7ff; text-decoration-color: #00d7ff\">None</span>, <span style=\"color: #00af00; text-decoration-color: #00af00\">10</span>)                  │          <span style=\"color: #00af00; text-decoration-color: #00af00\">16,010</span> │\n",
              "└──────────────────────────────────────┴─────────────────────────────┴─────────────────┘\n",
              "</pre>\n"
            ]
          },
          "metadata": {}
        },
        {
          "output_type": "display_data",
          "data": {
            "text/plain": [
              "\u001b[1m Total params: \u001b[0m\u001b[38;5;34m34,826\u001b[0m (136.04 KB)\n"
            ],
            "text/html": [
              "<pre style=\"white-space:pre;overflow-x:auto;line-height:normal;font-family:Menlo,'DejaVu Sans Mono',consolas,'Courier New',monospace\"><span style=\"font-weight: bold\"> Total params: </span><span style=\"color: #00af00; text-decoration-color: #00af00\">34,826</span> (136.04 KB)\n",
              "</pre>\n"
            ]
          },
          "metadata": {}
        },
        {
          "output_type": "display_data",
          "data": {
            "text/plain": [
              "\u001b[1m Trainable params: \u001b[0m\u001b[38;5;34m34,826\u001b[0m (136.04 KB)\n"
            ],
            "text/html": [
              "<pre style=\"white-space:pre;overflow-x:auto;line-height:normal;font-family:Menlo,'DejaVu Sans Mono',consolas,'Courier New',monospace\"><span style=\"font-weight: bold\"> Trainable params: </span><span style=\"color: #00af00; text-decoration-color: #00af00\">34,826</span> (136.04 KB)\n",
              "</pre>\n"
            ]
          },
          "metadata": {}
        },
        {
          "output_type": "display_data",
          "data": {
            "text/plain": [
              "\u001b[1m Non-trainable params: \u001b[0m\u001b[38;5;34m0\u001b[0m (0.00 B)\n"
            ],
            "text/html": [
              "<pre style=\"white-space:pre;overflow-x:auto;line-height:normal;font-family:Menlo,'DejaVu Sans Mono',consolas,'Courier New',monospace\"><span style=\"font-weight: bold\"> Non-trainable params: </span><span style=\"color: #00af00; text-decoration-color: #00af00\">0</span> (0.00 B)\n",
              "</pre>\n"
            ]
          },
          "metadata": {}
        }
      ],
      "source": [
        "def build_model():\n",
        "    model = Sequential()\n",
        "    # =================================\n",
        "    # Feature extractor\n",
        "    # =================================\n",
        "    model.add(Input(shape=(28,28,1))),\n",
        "    model.add(Conv2D(32, kernel_size=(3,3), activation=\"relu\"))\n",
        "    model.add(MaxPool2D(pool_size=(2, 2))),\n",
        "    model.add(Conv2D(64, kernel_size=(3,3), activation=\"relu\"))\n",
        "    model.add(MaxPool2D(pool_size=(2, 2))),\n",
        "    # =================================\n",
        "    # Neck\n",
        "    # =================================\n",
        "    model.add(Flatten()),\n",
        "    model.add(Dropout(0.5))\n",
        "    # =================================\n",
        "    # Head\n",
        "    # =================================\n",
        "    model.add(Dense(units=num_classes, activation=\"softmax\"))\n",
        "    # =================================\n",
        "    # Compile model\n",
        "    # =================================\n",
        "    model.compile(loss=\"categorical_crossentropy\",\n",
        "                  # optimizer=\"adam\",\n",
        "                  optimizer=tf.keras.optimizers.Adam(1e-3),\n",
        "                  metrics=[\"accuracy\"])\n",
        "    return model\n",
        "\n",
        "# Construct the model and show it\n",
        "model = build_model()\n",
        "model.summary()"
      ]
    },
    {
      "cell_type": "markdown",
      "id": "67713258-9ee8-42ad-87ee-bdb1512fb6df",
      "metadata": {
        "id": "67713258-9ee8-42ad-87ee-bdb1512fb6df"
      },
      "source": [
        "## Data Preparation (Part II)\n",
        "\n",
        ">__Important:__  Since we know our target ML model now, we need to finalize the preparation of our data according this model (see the Input layer defined by `Input(shape=(28,28,1))`). We need to make sure the training data match this shape!"
      ]
    },
    {
      "cell_type": "code",
      "execution_count": 32,
      "id": "1bff6acc-1dcd-4acb-b8ea-5dbe8e3bb022",
      "metadata": {
        "colab": {
          "base_uri": "https://localhost:8080/"
        },
        "id": "1bff6acc-1dcd-4acb-b8ea-5dbe8e3bb022",
        "outputId": "5b4c55ff-860c-47a2-fe9d-4c532285d41c"
      },
      "outputs": [
        {
          "output_type": "stream",
          "name": "stdout",
          "text": [
            "[INFO] before reshaping >>>  (60000, 28, 28) (28, 28) (60000, 10) (10000, 28, 28) (60000, 10)\n",
            "[INFO] before reshaping >>>  [[0.    0.    0.    0.    0.    0.    0.    0.    0.    0.    0.    0.    0.    0.    0.    0.    0.    0.    0.    0.    0.    0.    0.    0.    0.    0.    0.    0.   ]\n",
            " [0.    0.    0.    0.    0.    0.    0.    0.    0.    0.    0.    0.    0.    0.    0.    0.    0.    0.    0.    0.    0.    0.    0.    0.    0.    0.    0.    0.   ]\n",
            " [0.    0.    0.    0.    0.    0.    0.    0.    0.    0.    0.    0.    0.    0.    0.    0.    0.    0.    0.    0.    0.    0.    0.    0.    0.    0.    0.    0.   ]\n",
            " [0.    0.    0.    0.    0.    0.    0.    0.    0.    0.    0.    0.    0.    0.    0.    0.    0.    0.    0.    0.    0.    0.    0.    0.    0.    0.    0.    0.   ]\n",
            " [0.    0.    0.    0.    0.    0.    0.    0.    0.    0.    0.    0.    0.    0.    0.    0.    0.    0.    0.    0.    0.    0.    0.    0.    0.    0.    0.    0.   ]\n",
            " [0.    0.    0.    0.    0.    0.    0.    0.    0.    0.    0.    0.    0.012 0.071 0.071 0.071 0.494 0.533 0.686 0.102 0.651 1.    0.969 0.498 0.    0.    0.    0.   ]\n",
            " [0.    0.    0.    0.    0.    0.    0.    0.    0.118 0.141 0.369 0.604 0.667 0.992 0.992 0.992 0.992 0.992 0.882 0.675 0.992 0.949 0.765 0.251 0.    0.    0.    0.   ]\n",
            " [0.    0.    0.    0.    0.    0.    0.    0.192 0.933 0.992 0.992 0.992 0.992 0.992 0.992 0.992 0.992 0.984 0.365 0.322 0.322 0.22  0.153 0.    0.    0.    0.    0.   ]\n",
            " [0.    0.    0.    0.    0.    0.    0.    0.071 0.859 0.992 0.992 0.992 0.992 0.992 0.776 0.714 0.969 0.945 0.    0.    0.    0.    0.    0.    0.    0.    0.    0.   ]\n",
            " [0.    0.    0.    0.    0.    0.    0.    0.    0.314 0.612 0.42  0.992 0.992 0.804 0.043 0.    0.169 0.604 0.    0.    0.    0.    0.    0.    0.    0.    0.    0.   ]\n",
            " [0.    0.    0.    0.    0.    0.    0.    0.    0.    0.055 0.004 0.604 0.992 0.353 0.    0.    0.    0.    0.    0.    0.    0.    0.    0.    0.    0.    0.    0.   ]\n",
            " [0.    0.    0.    0.    0.    0.    0.    0.    0.    0.    0.    0.545 0.992 0.745 0.008 0.    0.    0.    0.    0.    0.    0.    0.    0.    0.    0.    0.    0.   ]\n",
            " [0.    0.    0.    0.    0.    0.    0.    0.    0.    0.    0.    0.043 0.745 0.992 0.275 0.    0.    0.    0.    0.    0.    0.    0.    0.    0.    0.    0.    0.   ]\n",
            " [0.    0.    0.    0.    0.    0.    0.    0.    0.    0.    0.    0.    0.137 0.945 0.882 0.627 0.424 0.004 0.    0.    0.    0.    0.    0.    0.    0.    0.    0.   ]\n",
            " [0.    0.    0.    0.    0.    0.    0.    0.    0.    0.    0.    0.    0.    0.318 0.941 0.992 0.992 0.467 0.098 0.    0.    0.    0.    0.    0.    0.    0.    0.   ]\n",
            " [0.    0.    0.    0.    0.    0.    0.    0.    0.    0.    0.    0.    0.    0.    0.176 0.729 0.992 0.992 0.588 0.106 0.    0.    0.    0.    0.    0.    0.    0.   ]\n",
            " [0.    0.    0.    0.    0.    0.    0.    0.    0.    0.    0.    0.    0.    0.    0.    0.063 0.365 0.988 0.992 0.733 0.    0.    0.    0.    0.    0.    0.    0.   ]\n",
            " [0.    0.    0.    0.    0.    0.    0.    0.    0.    0.    0.    0.    0.    0.    0.    0.    0.    0.976 0.992 0.976 0.251 0.    0.    0.    0.    0.    0.    0.   ]\n",
            " [0.    0.    0.    0.    0.    0.    0.    0.    0.    0.    0.    0.    0.    0.    0.18  0.51  0.718 0.992 0.992 0.812 0.008 0.    0.    0.    0.    0.    0.    0.   ]\n",
            " [0.    0.    0.    0.    0.    0.    0.    0.    0.    0.    0.    0.    0.153 0.58  0.898 0.992 0.992 0.992 0.98  0.714 0.    0.    0.    0.    0.    0.    0.    0.   ]\n",
            " [0.    0.    0.    0.    0.    0.    0.    0.    0.    0.    0.094 0.447 0.867 0.992 0.992 0.992 0.992 0.788 0.306 0.    0.    0.    0.    0.    0.    0.    0.    0.   ]\n",
            " [0.    0.    0.    0.    0.    0.    0.    0.    0.09  0.259 0.835 0.992 0.992 0.992 0.992 0.776 0.318 0.008 0.    0.    0.    0.    0.    0.    0.    0.    0.    0.   ]\n",
            " [0.    0.    0.    0.    0.    0.    0.071 0.671 0.859 0.992 0.992 0.992 0.992 0.765 0.314 0.035 0.    0.    0.    0.    0.    0.    0.    0.    0.    0.    0.    0.   ]\n",
            " [0.    0.    0.    0.    0.216 0.675 0.886 0.992 0.992 0.992 0.992 0.957 0.522 0.043 0.    0.    0.    0.    0.    0.    0.    0.    0.    0.    0.    0.    0.    0.   ]\n",
            " [0.    0.    0.    0.    0.533 0.992 0.992 0.992 0.831 0.529 0.518 0.063 0.    0.    0.    0.    0.    0.    0.    0.    0.    0.    0.    0.    0.    0.    0.    0.   ]\n",
            " [0.    0.    0.    0.    0.    0.    0.    0.    0.    0.    0.    0.    0.    0.    0.    0.    0.    0.    0.    0.    0.    0.    0.    0.    0.    0.    0.    0.   ]\n",
            " [0.    0.    0.    0.    0.    0.    0.    0.    0.    0.    0.    0.    0.    0.    0.    0.    0.    0.    0.    0.    0.    0.    0.    0.    0.    0.    0.    0.   ]\n",
            " [0.    0.    0.    0.    0.    0.    0.    0.    0.    0.    0.    0.    0.    0.    0.    0.    0.    0.    0.    0.    0.    0.    0.    0.    0.    0.    0.    0.   ]] [0. 0. 0. 0. 0. 1. 0. 0. 0. 0.]\n"
          ]
        }
      ],
      "source": [
        "X_train = train_x_ndarray.astype('float32')\n",
        "X_test = test_x_ndarray.astype('float32')\n",
        "\n",
        "# make sure you are not introducing nan\n",
        "X_train = np.nan_to_num(X_train, nan=0)\n",
        "X_test = np.nan_to_num(X_test, nan=0)\n",
        "\n",
        "# normalization: VERY IMPORTANT!!!!\n",
        "X_train = X_train / 255\n",
        "X_test = X_test / 255\n",
        "\n",
        "# one hot encoding of labels\n",
        "y_train = to_categorical(train_y_ndarray)\n",
        "y_test = to_categorical(test_y_ndarray)\n",
        "num_classes = y_train.shape[1]\n",
        "\n",
        "# before reshaping\n",
        "print(\"[INFO] before reshaping >>> \", X_train.shape, X_train[0].shape, y_train.shape, X_test.shape, y_train.shape)\n",
        "print(\"[INFO] before reshaping >>> \",X_train[0], y_train[0])"
      ]
    },
    {
      "cell_type": "code",
      "execution_count": 33,
      "id": "859a2dbf-e2fc-4ab8-8e3c-9322d4ce0342",
      "metadata": {
        "colab": {
          "base_uri": "https://localhost:8080/"
        },
        "id": "859a2dbf-e2fc-4ab8-8e3c-9322d4ce0342",
        "outputId": "bafa2a6d-2e25-4ab8-e5db-5e0544eb861e"
      },
      "outputs": [
        {
          "output_type": "stream",
          "name": "stdout",
          "text": [
            "[INFO] After reshaping >>>  (60000, 28, 28, 1) (28, 28, 1) (60000, 10) (10000, 28, 28, 1) (60000, 10)\n"
          ]
        }
      ],
      "source": [
        "# Explicit reshaping of training and testing data to (28, 28, 1)\n",
        "\n",
        "# WARNING:\n",
        "# Here, we could have rely on implicit broadcasting of TF Keras to not reshape and let ate of shape (28, 28) to be automatically\n",
        "# reshaped into (28, 28, 1) ; bit it is a bad practice!\n",
        "\n",
        "X_train = X_train.reshape(X_train.shape[0], 28, 28, 1)\n",
        "X_test = X_test.reshape(X_test.shape[0], 28, 28, 1)\n",
        "print(\"[INFO] After reshaping >>> \", X_train.shape, X_train[0].shape, y_train.shape, X_test.shape, y_train.shape)"
      ]
    },
    {
      "cell_type": "markdown",
      "id": "6a4fc4dc-c01f-4ff5-8677-c152c12f62d8",
      "metadata": {
        "id": "6a4fc4dc-c01f-4ff5-8677-c152c12f62d8"
      },
      "source": [
        "## Model Training & Evaluation"
      ]
    },
    {
      "cell_type": "markdown",
      "id": "cf6fcd14-7c47-4ef9-b8ff-581eb97bd165",
      "metadata": {
        "id": "cf6fcd14-7c47-4ef9-b8ff-581eb97bd165"
      },
      "source": [
        "__Construct the demonstration set__\n",
        "\n",
        "Here, we isolate in the `demo/` subdirectory, some testing images. We'll use them later on - once our model is trained - to demonstrate how accurate it is."
      ]
    },
    {
      "cell_type": "code",
      "execution_count": 34,
      "id": "3aee0be7-ea32-4947-9989-80d986ab6621",
      "metadata": {
        "colab": {
          "base_uri": "https://localhost:8080/"
        },
        "id": "3aee0be7-ea32-4947-9989-80d986ab6621",
        "outputId": "5d464ef7-55b2-4691-8daf-f6ed4388567a"
      },
      "outputs": [
        {
          "output_type": "stream",
          "name": "stdout",
          "text": [
            "[INFO] Nothing to do because /content/demo contains already enough images!\n"
          ]
        }
      ],
      "source": [
        "def reconstruct_demo_dir(nb, from_set, target_dir):\n",
        "    # randomly collect the indices\n",
        "    demo_rnd_indices = np.random.randint(1, high=len(from_set), size=nb)\n",
        "    for i in demo_rnd_indices:\n",
        "        plt.imsave(os.path.join(target_dir, demo_prefix + str(i) + \".jpg\"), from_set[i], cmap='gray')\n",
        "    print(f\"[INFO] {len(demo_rnd_indices)} images have been created in {target_dir}\")\n",
        "\n",
        "# check if the demo dir exists and contains at least nb_demo files\n",
        "\n",
        "if os.path.exists(DEMO_DIR):\n",
        "    nb_files = len([name for name in os.listdir(DEMO_DIR) if os.path.isfile(os.path.join(DEMO_DIR, name))])\n",
        "    if nb_files < nb_demo:\n",
        "        # So you can safely manually add demo file\n",
        "        reconstruct_demo_dir(nb=nb_demo, from_set=test_x_ndarray, target_dir=DEMO_DIR)\n",
        "    else:\n",
        "        print(f\"[INFO] Nothing to do because {DEMO_DIR} contains already enough images!\")\n",
        "else:\n",
        "    reconstruct_demo_dir(nb=nb_demo, from_set=test_x_ndarray, target_dir=DEMO_DIR)"
      ]
    },
    {
      "cell_type": "markdown",
      "id": "8f72777c-5f4d-49b9-8252-14b832ed159d",
      "metadata": {
        "id": "8f72777c-5f4d-49b9-8252-14b832ed159d"
      },
      "source": [
        "__Test some demo images before training__"
      ]
    },
    {
      "cell_type": "code",
      "execution_count": 35,
      "id": "ebcfae7c-303b-4187-9795-79c6d8e6ab5b",
      "metadata": {
        "colab": {
          "base_uri": "https://localhost:8080/",
          "height": 423
        },
        "id": "ebcfae7c-303b-4187-9795-79c6d8e6ab5b",
        "outputId": "70ba2688-5404-46dd-aad2-d96a7e92c381"
      },
      "outputs": [
        {
          "output_type": "stream",
          "name": "stdout",
          "text": [
            "[INFO] Load demo images as Black'n White... \n"
          ]
        },
        {
          "output_type": "display_data",
          "data": {
            "text/plain": [
              "<Figure size 500x500 with 12 Axes>"
            ],
            "image/png": "[encoded data removed]"
          },
          "metadata": {}
        },
        {
          "output_type": "stream",
          "name": "stdout",
          "text": [
            "\u001b[1m1/1\u001b[0m \u001b[32m━━━━━━━━━━━━━━━━━━━━\u001b[0m\u001b[37m\u001b[0m \u001b[1m0s\u001b[0m 297ms/step\n",
            "[INFO] Prédictions:\n",
            " digit: 5 \t -  digit: 5 \t -  digit: 5 \t - \n",
            " digit: 5 \t -  digit: 1 \t -  digit: 5 \t - \n",
            "\n"
          ]
        }
      ],
      "source": [
        "nb_imgs = 6\n",
        "nb_rows = 2\n",
        "nb_cols = 3\n",
        "\n",
        "# load as b&w images\n",
        "print(\"[INFO] Load demo images as Black'n White... \")\n",
        "demo_imgs = [Image.open(os.path.join(DEMO_DIR, name)).convert('1') for name in os.listdir(DEMO_DIR)[:nb_imgs]]\n",
        "\n",
        "fig = plt.figure(figsize=(5., 5.))\n",
        "grid = ImageGrid(\n",
        "    fig, 111,  # similar to subplot(111)\n",
        "    nrows_ncols=(nb_rows, nb_cols),\n",
        "    axes_pad=0.1,\n",
        ")\n",
        "\n",
        "for ax, img in zip(grid, demo_imgs):\n",
        "    ax.imshow(img)\n",
        "plt.show()\n",
        "\n",
        "# Now let's predict\n",
        "\n",
        "demo_imgs_arrays = np.array([\n",
        "    np.asarray(demo_img).reshape(demo_img.size[0], demo_img.size[1], 1)\n",
        "    for demo_img in demo_imgs\n",
        "])\n",
        "raw_predictions = model.predict(demo_imgs_arrays)\n",
        "\n",
        "refined_predictions = []\n",
        "for rp in raw_predictions:\n",
        "    refined_predictions.append(np.argmax(rp))\n",
        "\n",
        "print(\"[INFO] Prédictions:\")\n",
        "\n",
        "msg_pred = \"\"\n",
        "cpt = 0\n",
        "for i in range(nb_rows):\n",
        "    for j in range(nb_cols):\n",
        "        msg_pred += f\" digit: {refined_predictions[cpt]} \\t - \"\n",
        "        cpt += 1\n",
        "    msg_pred += \"\\n\"\n",
        "\n",
        "print(msg_pred)"
      ]
    },
    {
      "cell_type": "code",
      "execution_count": 36,
      "id": "4dd4e84e-890c-41c3-a348-70c41724eda8",
      "metadata": {
        "colab": {
          "base_uri": "https://localhost:8080/"
        },
        "id": "4dd4e84e-890c-41c3-a348-70c41724eda8",
        "outputId": "f4ebf019-7dd0-4356-ea5b-f7459dc8f521"
      },
      "outputs": [
        {
          "output_type": "stream",
          "name": "stdout",
          "text": [
            "[INFO]\n",
            "[INFO] ======================= \n",
            "[INFO] Hyperparameters\n",
            "[INFO] ======================= \n",
            "[INFO]\n",
            "[INFO] batch_size = 64\n",
            "[INFO] epochs = 10\n",
            "[INFO]\n",
            "[INFO] ======================= \n",
            "[INFO] Train & Evaluate\n",
            "[INFO] ======================= \n",
            "[INFO]\n",
            "Epoch 1/10\n",
            "\u001b[1m938/938\u001b[0m \u001b[32m━━━━━━━━━━━━━━━━━━━━\u001b[0m\u001b[37m\u001b[0m \u001b[1m12s\u001b[0m 11ms/step - accuracy: 0.8289 - loss: 0.5567 - val_accuracy: 0.9798 - val_loss: 0.0681\n",
            "Epoch 2/10\n",
            "\u001b[1m938/938\u001b[0m \u001b[32m━━━━━━━━━━━━━━━━━━━━\u001b[0m\u001b[37m\u001b[0m \u001b[1m13s\u001b[0m 4ms/step - accuracy: 0.9717 - loss: 0.0957 - val_accuracy: 0.9831 - val_loss: 0.0508\n",
            "Epoch 3/10\n",
            "\u001b[1m938/938\u001b[0m \u001b[32m━━━━━━━━━━━━━━━━━━━━\u001b[0m\u001b[37m\u001b[0m \u001b[1m6s\u001b[0m 5ms/step - accuracy: 0.9786 - loss: 0.0705 - val_accuracy: 0.9868 - val_loss: 0.0387\n",
            "Epoch 4/10\n",
            "\u001b[1m938/938\u001b[0m \u001b[32m━━━━━━━━━━━━━━━━━━━━\u001b[0m\u001b[37m\u001b[0m \u001b[1m4s\u001b[0m 4ms/step - accuracy: 0.9818 - loss: 0.0582 - val_accuracy: 0.9877 - val_loss: 0.0365\n",
            "Epoch 5/10\n",
            "\u001b[1m938/938\u001b[0m \u001b[32m━━━━━━━━━━━━━━━━━━━━\u001b[0m\u001b[37m\u001b[0m \u001b[1m4s\u001b[0m 4ms/step - accuracy: 0.9845 - loss: 0.0527 - val_accuracy: 0.9883 - val_loss: 0.0326\n",
            "Epoch 6/10\n",
            "\u001b[1m938/938\u001b[0m \u001b[32m━━━━━━━━━━━━━━━━━━━━\u001b[0m\u001b[37m\u001b[0m \u001b[1m5s\u001b[0m 4ms/step - accuracy: 0.9861 - loss: 0.0456 - val_accuracy: 0.9882 - val_loss: 0.0306\n",
            "Epoch 7/10\n",
            "\u001b[1m938/938\u001b[0m \u001b[32m━━━━━━━━━━━━━━━━━━━━\u001b[0m\u001b[37m\u001b[0m \u001b[1m4s\u001b[0m 4ms/step - accuracy: 0.9873 - loss: 0.0427 - val_accuracy: 0.9899 - val_loss: 0.0313\n",
            "Epoch 8/10\n",
            "\u001b[1m938/938\u001b[0m \u001b[32m━━━━━━━━━━━━━━━━━━━━\u001b[0m\u001b[37m\u001b[0m \u001b[1m4s\u001b[0m 4ms/step - accuracy: 0.9877 - loss: 0.0402 - val_accuracy: 0.9894 - val_loss: 0.0286\n",
            "Epoch 9/10\n",
            "\u001b[1m938/938\u001b[0m \u001b[32m━━━━━━━━━━━━━━━━━━━━\u001b[0m\u001b[37m\u001b[0m \u001b[1m4s\u001b[0m 5ms/step - accuracy: 0.9884 - loss: 0.0371 - val_accuracy: 0.9894 - val_loss: 0.0301\n",
            "Epoch 10/10\n",
            "\u001b[1m938/938\u001b[0m \u001b[32m━━━━━━━━━━━━━━━━━━━━\u001b[0m\u001b[37m\u001b[0m \u001b[1m4s\u001b[0m 4ms/step - accuracy: 0.9898 - loss: 0.0334 - val_accuracy: 0.9909 - val_loss: 0.0281\n",
            "[INFO] Duration = 62.97623944282532 seconds.\n"
          ]
        }
      ],
      "source": [
        "# Remind the hyperparameters values\n",
        "\n",
        "t1 = time.time()\n",
        "\n",
        "print(\"[INFO]\")\n",
        "print(\"[INFO] ======================= \")\n",
        "print(\"[INFO] Hyperparameters\")\n",
        "print(\"[INFO] ======================= \")\n",
        "print(\"[INFO]\")\n",
        "print(f\"[INFO] batch_size = {batch_size}\")\n",
        "print(f\"[INFO] epochs = {epochs}\")\n",
        "\n",
        "print(\"[INFO]\")\n",
        "print(\"[INFO] ======================= \")\n",
        "print(\"[INFO] Train & Evaluate\")\n",
        "print(\"[INFO] ======================= \")\n",
        "print(\"[INFO]\")\n",
        "\n",
        "# Fit the model\n",
        "history = model.fit(\n",
        "    x=X_train,\n",
        "    y=y_train,\n",
        "    batch_size=batch_size,\n",
        "    validation_data=(X_test, y_test),\n",
        "    epochs=epochs\n",
        ")\n",
        "\n",
        "t2 = time.time()\n",
        "print(f\"[INFO] Duration = {t2-t1} seconds.\")\n",
        "\n",
        "# Note:\n",
        "# During the fit, monitor the GPUs activity using: $ watch -n 0.5 nvidia-smi"
      ]
    },
    {
      "cell_type": "code",
      "execution_count": 37,
      "id": "aec23973-8750-4cdc-a120-5cf2babe11e8",
      "metadata": {
        "colab": {
          "base_uri": "https://localhost:8080/",
          "height": 944
        },
        "id": "aec23973-8750-4cdc-a120-5cf2babe11e8",
        "outputId": "7ab143ff-8e59-4214-cdd6-adf754192300"
      },
      "outputs": [
        {
          "output_type": "stream",
          "name": "stdout",
          "text": [
            "dict_keys(['accuracy', 'loss', 'val_accuracy', 'val_loss'])\n"
          ]
        },
        {
          "output_type": "display_data",
          "data": {
            "text/plain": [
              "<Figure size 640x480 with 1 Axes>"
            ],
            "image/png": "[encoded data removed]"
          },
          "metadata": {}
        },
        {
          "output_type": "display_data",
          "data": {
            "text/plain": [
              "<Figure size 640x480 with 1 Axes>"
            ],
            "image/png": "[encoded data removed]"
          },
          "metadata": {}
        }
      ],
      "source": [
        "# check entries in the history\n",
        "print(history.history.keys()) # => dict_keys(['accuracy', 'loss', 'val_accuracy', 'val_loss'])\n",
        "\n",
        "# summarize history for accuracy\n",
        "plt.plot(history.history[\"accuracy\"])\n",
        "plt.plot(history.history[\"val_accuracy\"])\n",
        "plt.title('model accuracy')\n",
        "plt.ylabel('accuracy')\n",
        "plt.xlabel('epoch')\n",
        "plt.legend(['train', 'validation'], loc='upper left')\n",
        "plt.show()\n",
        "\n",
        "# summarize history for loss\n",
        "plt.plot(history.history['loss'])\n",
        "plt.plot(history.history['val_loss'])\n",
        "plt.title('model loss')\n",
        "plt.ylabel('loss')\n",
        "plt.xlabel('epoch')\n",
        "plt.legend(['train', 'test'], loc='upper left')\n",
        "plt.show()\n"
      ]
    },
    {
      "cell_type": "code",
      "execution_count": 38,
      "id": "abfc4711-84bc-4d7c-b7a2-e8bbc769e3ca",
      "metadata": {
        "colab": {
          "base_uri": "https://localhost:8080/"
        },
        "id": "abfc4711-84bc-4d7c-b7a2-e8bbc769e3ca",
        "outputId": "390c9b26-96b4-4bc8-f45d-e41f220b24b3",
        "scrolled": true
      },
      "outputs": [
        {
          "output_type": "stream",
          "name": "stdout",
          "text": [
            "\n",
            "[INFO] Model Val Accuracy: 99.09%, Error: 0.91%\n"
          ]
        }
      ],
      "source": [
        "# Final evaluation of the model\n",
        "scores = model.evaluate(\n",
        "    x=X_test,\n",
        "    y=y_test,\n",
        "    verbose=0\n",
        ")\n",
        "\n",
        "print(\"\\n[INFO] Model Val Accuracy: %.2f%%, Error: %.2f%%\" % (scores[1]*100, 100-scores[1]*100))"
      ]
    },
    {
      "cell_type": "markdown",
      "id": "b18bf73a-2b82-42f4-978e-2984e06f0c38",
      "metadata": {
        "id": "b18bf73a-2b82-42f4-978e-2984e06f0c38"
      },
      "source": [
        "__Test some demo images afetr training__"
      ]
    },
    {
      "cell_type": "code",
      "execution_count": 39,
      "id": "1efc080f-f2b6-44d1-8e63-d101ad7916a1",
      "metadata": {
        "colab": {
          "base_uri": "https://localhost:8080/",
          "height": 423
        },
        "id": "1efc080f-f2b6-44d1-8e63-d101ad7916a1",
        "outputId": "601deec2-e829-47d8-f067-2a2918f0223b"
      },
      "outputs": [
        {
          "output_type": "stream",
          "name": "stdout",
          "text": [
            "[INFO] Previous demo images... \n"
          ]
        },
        {
          "output_type": "display_data",
          "data": {
            "text/plain": [
              "<Figure size 500x500 with 12 Axes>"
            ],
            "image/png": "[encoded data removed]"
          },
          "metadata": {}
        },
        {
          "output_type": "stream",
          "name": "stdout",
          "text": [
            "\u001b[1m1/1\u001b[0m \u001b[32m━━━━━━━━━━━━━━━━━━━━\u001b[0m\u001b[37m\u001b[0m \u001b[1m0s\u001b[0m 30ms/step\n",
            "[INFO] Prédictions:\n",
            " digit: 5 \t -  digit: 2 \t -  digit: 4 \t - \n",
            " digit: 2 \t -  digit: 2 \t -  digit: 2 \t - \n",
            "\n"
          ]
        }
      ],
      "source": [
        "# let's reuse the same previous demo settings...\n",
        "\n",
        "print(\"[INFO] Previous demo images... \")\n",
        "fig = plt.figure(figsize=(5., 5.))\n",
        "grid = ImageGrid(\n",
        "    fig, 111,  # similar to subplot(111)\n",
        "    nrows_ncols=(nb_rows, nb_cols),\n",
        "    axes_pad=0.1,\n",
        ")\n",
        "\n",
        "for ax, img in zip(grid, demo_imgs):\n",
        "    ax.imshow(img)\n",
        "plt.show()\n",
        "\n",
        "# Now let's predict (again)\n",
        "raw_predictions = model.predict(demo_imgs_arrays)\n",
        "\n",
        "refined_predictions = []\n",
        "for rp in raw_predictions:\n",
        "    refined_predictions.append(np.argmax(rp))\n",
        "\n",
        "print(\"[INFO] Prédictions:\")\n",
        "\n",
        "msg_pred = \"\"\n",
        "cpt = 0\n",
        "for i in range(nb_rows):\n",
        "    for j in range(nb_cols):\n",
        "        msg_pred += f\" digit: {refined_predictions[cpt]} \\t - \"\n",
        "        cpt += 1\n",
        "    msg_pred += \"\\n\"\n",
        "\n",
        "print(msg_pred)"
      ]
    },
    {
      "cell_type": "markdown",
      "id": "6a063c21-3d77-4f8a-89e4-fd742ca7ab00",
      "metadata": {
        "id": "6a063c21-3d77-4f8a-89e4-fd742ca7ab00"
      },
      "source": [
        "__END OF NOTEBOOK.__"
      ]
    },
    {
      "cell_type": "code",
      "execution_count": 39,
      "id": "87cb04c0-db17-4079-9b04-f36ad51776cf",
      "metadata": {
        "id": "87cb04c0-db17-4079-9b04-f36ad51776cf"
      },
      "outputs": [],
      "source": []
    }
  ],
  "metadata": {
    "accelerator": "GPU",
    "colab": {
      "gpuType": "T4",
      "provenance": []
    },
    "kernelspec": {
      "display_name": "Python 3 (ipykernel)",
      "language": "python",
      "name": "python3"
    },
    "language_info": {
      "codemirror_mode": {
        "name": "ipython",
        "version": 3
      },
      "file_extension": ".py",
      "mimetype": "text/x-python",
      "name": "python",
      "nbconvert_exporter": "python",
      "pygments_lexer": "ipython3",
      "version": "3.12.0"
    }
  },
  "nbformat": 4,
  "nbformat_minor": 5
}