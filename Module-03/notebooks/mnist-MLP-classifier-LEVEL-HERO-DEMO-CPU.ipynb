{
 "cells": [
  {
   "cell_type": "markdown",
   "id": "c12f43ca-d703-4737-adb6-2b0210ecc297",
   "metadata": {},
   "source": [
    "# MNIST Classifier Using an MLP - Hello World of Deep Learning (DL)! - CNN on CPU\n",
    "<hr/>"
   ]
  },
  {
   "cell_type": "markdown",
   "id": "446f1021-feb4-4fcf-ac18-f1770a739dd0",
   "metadata": {},
   "source": [
    "## Introduction\n",
    "\n",
    "This notebook is inffixed with __LEVEL HERO DEMO__ because it is a finalized performant ML classifier for the [MNIST](https://paperswithcode.com/dataset/mnist) dataset. This set is presented by your instructor during the lecture. Please confer to the lecture notes for further details.\n",
    "\n",
    "This notebook is a __demonstration notebook__ to: \n",
    "- test your DEV environment,\n",
    "- show you how developing a ML model can be very simple,\n",
    "- show you how a simple MLP can achieve quite-human performance in the simple task of recognizing hand-written digits.\n",
    "\n",
    ">__Note:__\n",
    ">\n",
    ">One can see the suffix __CPU__ to indicate that the NN architecture was lowered to allow a training on common CPU devices. Indeed, a __MLP__ is used here instead of a proper CNN architecture. Thus, the performances are downgraded compared to a __CNN__ model trained on a __GPU__ device.\n",
    ">\n",
    ">I you want to go to production, please prefer the __CNN__ version instead of the __MLP__ ones.\n",
    "\n",
    "__Key indicators for this Notebook__\n",
    "\n",
    "- batch size = 8\n",
    "- nb epochs = 10\n",
    "- architecture =\n",
    "   - 1 hidden dense layer of 64 units\n",
    "   - 1 output dense layer of 10 units  \n",
    "   - Trainable params = 501,898 (1.91 MB) \n",
    "- Training avarage time = 600 seconds\n",
    "- val accuracy = 92.21% "
   ]
  },
  {
   "cell_type": "markdown",
   "id": "27d918a0-7eeb-4ffb-961d-8fca8a000981",
   "metadata": {},
   "source": [
    "## Imports"
   ]
  },
  {
   "cell_type": "code",
   "execution_count": 1,
   "id": "60cb7e65-ea53-482c-8665-c7b4de476304",
   "metadata": {},
   "outputs": [
    {
     "name": "stderr",
     "output_type": "stream",
     "text": [
      "2025-03-13 12:29:01.420201: I external/local_xla/xla/tsl/cuda/cudart_stub.cc:32] Could not find cuda drivers on your machine, GPU will not be used.\n",
      "2025-03-13 12:29:01.566983: I external/local_xla/xla/tsl/cuda/cudart_stub.cc:32] Could not find cuda drivers on your machine, GPU will not be used.\n",
      "2025-03-13 12:29:01.690375: E external/local_xla/xla/stream_executor/cuda/cuda_fft.cc:477] Unable to register cuFFT factory: Attempting to register factory for plugin cuFFT when one has already been registered\n",
      "WARNING: All log messages before absl::InitializeLog() is called are written to STDERR\n",
      "E0000 00:00:1741868941.810066  118313 cuda_dnn.cc:8310] Unable to register cuDNN factory: Attempting to register factory for plugin cuDNN when one has already been registered\n",
      "E0000 00:00:1741868941.833755  118313 cuda_blas.cc:1418] Unable to register cuBLAS factory: Attempting to register factory for plugin cuBLAS when one has already been registered\n",
      "2025-03-13 12:29:02.047809: I tensorflow/core/platform/cpu_feature_guard.cc:210] This TensorFlow binary is optimized to use available CPU instructions in performance-critical operations.\n",
      "To enable the following instructions: AVX2 FMA, in other operations, rebuild TensorFlow with the appropriate compiler flags.\n"
     ]
    }
   ],
   "source": [
    "import os\n",
    "import time\n",
    "import idx2numpy\n",
    "import numpy as np ; np.random.seed(42)\n",
    "import matplotlib.pyplot as plt\n",
    "import matplotlib.image as mpimg\n",
    "import tensorflow as tf ; tf.random.set_seed(42)\n",
    "\n",
    "from PIL import Image\n",
    "from tensorflow.keras.models import Sequential\n",
    "from tensorflow.keras.layers import Input, Dense, Dropout, Flatten, Conv2D, MaxPool2D\n",
    "from tensorflow.keras.utils import to_categorical\n",
    "from mpl_toolkits.axes_grid1 import ImageGrid"
   ]
  },
  {
   "cell_type": "markdown",
   "id": "a285678f-f5c5-4bb7-8e1d-aa01daa8684d",
   "metadata": {},
   "source": [
    "## Hardware"
   ]
  },
  {
   "cell_type": "code",
   "execution_count": 2,
   "id": "056e4cb9-60e4-4b62-acfd-689f96b507cc",
   "metadata": {},
   "outputs": [
    {
     "name": "stdout",
     "output_type": "stream",
     "text": [
      "[INFO] Num CPUs: 1 , list =  [PhysicalDevice(name='/physical_device:CPU:0', device_type='CPU')]\n",
      "[INFO] Num GPUs: 0 , list =  []\n"
     ]
    },
    {
     "name": "stderr",
     "output_type": "stream",
     "text": [
      "2025-03-13 12:29:06.719574: E external/local_xla/xla/stream_executor/cuda/cuda_driver.cc:152] failed call to cuInit: INTERNAL: CUDA error: Failed call to cuInit: UNKNOWN ERROR (303)\n"
     ]
    }
   ],
   "source": [
    "CPUS = tf.config.list_physical_devices('CPU')\n",
    "GPUS = tf.config.list_physical_devices('GPU')\n",
    "\n",
    "print(\"[INFO] Num CPUs:\", len(CPUS), \", list = \", CPUS)\n",
    "print(\"[INFO] Num GPUs:\", len(GPUS), \", list = \", GPUS)"
   ]
  },
  {
   "cell_type": "markdown",
   "id": "7ae7700a-1f3b-4b3b-981d-be0426f9c5b9",
   "metadata": {},
   "source": [
    "## Notebook parameters"
   ]
  },
  {
   "cell_type": "code",
   "execution_count": 3,
   "id": "cd585e9b-03ea-41df-8dec-267a919d657c",
   "metadata": {},
   "outputs": [],
   "source": [
    "# NumPy\n",
    "\n",
    "np.set_printoptions(linewidth=200) # to enlarge the print() line\n",
    "np.random.seed(42) # the random seed init\n",
    "np.set_printoptions(precision=3) # for numpy floats: number of decimals\n",
    "\n",
    "# TF\n",
    "os.environ['TF_CPP_MIN_LOG_LEVEL'] = '3' # to disable TF debug logging messages "
   ]
  },
  {
   "cell_type": "markdown",
   "id": "0835150e-8aa4-44d5-af61-ff7704391d8c",
   "metadata": {},
   "source": [
    "## Globals & hyperparameters"
   ]
  },
  {
   "cell_type": "code",
   "execution_count": 4,
   "id": "8ca2974f-7b59-4022-9285-349de938cf2c",
   "metadata": {},
   "outputs": [],
   "source": [
    "# =============\n",
    "# DATA_TOPDIR\n",
    "# =============\n",
    "\n",
    "# Contain the (un)compressed idx files of MNIST\n",
    "\n",
    "# on assieoussou (Laptop - CPU)\n",
    "DATA_TOPDIR = \"/home/ml/datasets/mnist\"\n",
    "\n",
    "# on your machine.... \n",
    "\n",
    "# =======\n",
    "# MNIST \n",
    "# =======\n",
    "\n",
    "# dataset files\n",
    "TRAIN_IMAGES_DATASET_FILE = os.path.join(DATA_TOPDIR, \"train-images-idx3-ubyte\")\n",
    "TRAIN_LABELS_DATASET_FILE = os.path.join(DATA_TOPDIR, \"train-labels-idx1-ubyte\")\n",
    "TEST_IMAGES_DATASET_FILE = os.path.join(DATA_TOPDIR, \"t10k-images-idx3-ubyte\")\n",
    "TEST_LABELS_DATASET_FILE = os.path.join(DATA_TOPDIR, \"t10k-labels-idx1-ubyte\")\n",
    "\n",
    "# The MNIST images format\n",
    "num_pixels = 28 * 28\n",
    "\n",
    "# the total number of digits\n",
    "num_classes = 10\n",
    "\n",
    "# ==========================\n",
    "# Training hyperparameters\n",
    "# ==========================\n",
    "\n",
    "epochs = 10\n",
    "batch_size = 8\n",
    "\n",
    "# =======\n",
    "# Demo \n",
    "# =======\n",
    "\n",
    "# Demo dir: where demonstration images are placed\n",
    "DEMO_DIR = os.path.join(DATA_TOPDIR, \"demo\")\n",
    "os.makedirs(DEMO_DIR, exist_ok=True)\n",
    "\n",
    "# for demo images \n",
    "nb_demo = 10\n",
    "demo_prefix = \"demo_img_\"\n"
   ]
  },
  {
   "cell_type": "markdown",
   "id": "cd193bc2-de05-4cff-94a6-a26fee328bd3",
   "metadata": {},
   "source": [
    "## Data Preparation (Part I)\n",
    "\n",
    ">__Note:__\n",
    ">\n",
    ">In this notebook, all the steps regarding the understanding of the data are skipped. Indeed, in practice Data Scientist spend __80%__ of their time here!\n",
    "\n"
   ]
  },
  {
   "cell_type": "code",
   "execution_count": 5,
   "id": "bd84508a-1edb-4154-af46-e123a46f5bf3",
   "metadata": {},
   "outputs": [
    {
     "name": "stdout",
     "output_type": "stream",
     "text": [
      "(50000, 28, 28) (50000,)\n",
      "(10000, 28, 28) (10000,)\n",
      "(10000, 28, 28) (10000,)\n"
     ]
    }
   ],
   "source": [
    "# 1. Read each dataset into a conventional numpy 2D array\n",
    "train_x_ndarray = idx2numpy.convert_from_file(TRAIN_IMAGES_DATASET_FILE)\n",
    "train_y_ndarray = idx2numpy.convert_from_file(TRAIN_LABELS_DATASET_FILE)\n",
    "\n",
    "test_x_ndarray = idx2numpy.convert_from_file(TEST_IMAGES_DATASET_FILE)\n",
    "test_y_ndarray = idx2numpy.convert_from_file(TEST_LABELS_DATASET_FILE)\n",
    "\n",
    "# let us create a validation set from the training one: \n",
    "\n",
    "valid_size = 10000\n",
    "valid_x_ndarray = train_x_ndarray[:valid_size]\n",
    "valid_y_ndarray = train_y_ndarray[:valid_size]\n",
    "\n",
    "# remove from train\n",
    "train_x_ndarray = train_x_ndarray[valid_size:]\n",
    "train_y_ndarray = train_y_ndarray[valid_size:]\n",
    "\n",
    "print(train_x_ndarray.shape, train_y_ndarray.shape)\n",
    "print(valid_x_ndarray.shape, valid_y_ndarray.shape)\n",
    "print(test_x_ndarray.shape, test_y_ndarray.shape)"
   ]
  },
  {
   "cell_type": "code",
   "execution_count": 6,
   "id": "3d2760f4-0690-4fa7-9769-c9bb70880185",
   "metadata": {},
   "outputs": [
    {
     "name": "stdout",
     "output_type": "stream",
     "text": [
      "(50000, 28, 28) (50000,)\n",
      "train_x_ndarray[0] = \n",
      "[[  0   0   0   0   0   0   0   0   0   0   0   0   0   0   0   0   0   0   0   0   0   0   0   0   0   0   0   0]\n",
      " [  0   0   0   0   0   0   0   0   0   0   0   0   0   0   0   0   0   0   0   0   0   0   0   0   0   0   0   0]\n",
      " [  0   0   0   0   0   0   0   0   0   0   0   0   0   0   0   0   0   0   0   0   0   0   0   0   0   0   0   0]\n",
      " [  0   0   0   0   0   0   0   0   0   0   0   0   0   0   0   0   0   0   0   0   0   0   0   0   0   0   0   0]\n",
      " [  0   0   0   0   0   0   0   0   0   0   0   0   0   0   0   0   0   0   0   0   0   0   0   0   0   0   0   0]\n",
      " [  0   0   0   0   0   0   0   0   0  29 150 195 254 255 254 176 193 150  96   0   0   0   0   0   0   0   0   0]\n",
      " [  0   0   0   0   0   0   0  48 166 224 253 253 234 196 253 253 253 253 233   0   0   0   0   0   0   0   0   0]\n",
      " [  0   0   0   0   0  93 244 249 253 187  46  10   8   4  10 194 253 253 233   0   0   0   0   0   0   0   0   0]\n",
      " [  0   0   0   0   0 107 253 253 230  48   0   0   0   0   0 192 253 253 156   0   0   0   0   0   0   0   0   0]\n",
      " [  0   0   0   0   0   3  20  20  15   0   0   0   0   0  43 224 253 245  74   0   0   0   0   0   0   0   0   0]\n",
      " [  0   0   0   0   0   0   0   0   0   0   0   0   0   0 249 253 245 126   0   0   0   0   0   0   0   0   0   0]\n",
      " [  0   0   0   0   0   0   0   0   0   0   0  14 101 223 253 248 124   0   0   0   0   0   0   0   0   0   0   0]\n",
      " [  0   0   0   0   0   0   0   0   0  11 166 239 253 253 253 187  30   0   0   0   0   0   0   0   0   0   0   0]\n",
      " [  0   0   0   0   0   0   0   0   0  16 248 250 253 253 253 253 232 213 111   2   0   0   0   0   0   0   0   0]\n",
      " [  0   0   0   0   0   0   0   0   0   0   0  43  98  98 208 253 253 253 253 187  22   0   0   0   0   0   0   0]\n",
      " [  0   0   0   0   0   0   0   0   0   0   0   0   0   0   9  51 119 253 253 253  76   0   0   0   0   0   0   0]\n",
      " [  0   0   0   0   0   0   0   0   0   0   0   0   0   0   0   0   1 183 253 253 139   0   0   0   0   0   0   0]\n",
      " [  0   0   0   0   0   0   0   0   0   0   0   0   0   0   0   0   0 182 253 253 104   0   0   0   0   0   0   0]\n",
      " [  0   0   0   0   0   0   0   0   0   0   0   0   0   0   0   0  85 249 253 253  36   0   0   0   0   0   0   0]\n",
      " [  0   0   0   0   0   0   0   0   0   0   0   0   0   0   0  60 214 253 253 173  11   0   0   0   0   0   0   0]\n",
      " [  0   0   0   0   0   0   0   0   0   0   0   0   0   0  98 247 253 253 226   9   0   0   0   0   0   0   0   0]\n",
      " [  0   0   0   0   0   0   0   0   0   0   0   0  42 150 252 253 253 233  53   0   0   0   0   0   0   0   0   0]\n",
      " [  0   0   0   0   0   0  42 115  42  60 115 159 240 253 253 250 175  25   0   0   0   0   0   0   0   0   0   0]\n",
      " [  0   0   0   0   0   0 187 253 253 253 253 253 253 253 197  86   0   0   0   0   0   0   0   0   0   0   0   0]\n",
      " [  0   0   0   0   0   0 103 253 253 253 253 253 232  67   1   0   0   0   0   0   0   0   0   0   0   0   0   0]\n",
      " [  0   0   0   0   0   0   0   0   0   0   0   0   0   0   0   0   0   0   0   0   0   0   0   0   0   0   0   0]\n",
      " [  0   0   0   0   0   0   0   0   0   0   0   0   0   0   0   0   0   0   0   0   0   0   0   0   0   0   0   0]\n",
      " [  0   0   0   0   0   0   0   0   0   0   0   0   0   0   0   0   0   0   0   0   0   0   0   0   0   0   0   0]], \n",
      "train_y_ndarray[0] = 3\n",
      "(28, 28) ()\n"
     ]
    },
    {
     "data": {
      "text/plain": [
       "<matplotlib.image.AxesImage at 0x7f4fac709280>"
      ]
     },
     "execution_count": 6,
     "metadata": {},
     "output_type": "execute_result"
    },
    {
     "data": {
      "image/png": "[encoded data removed]",
      "text/plain": [
       "<Figure size 640x480 with 1 Axes>"
      ]
     },
     "metadata": {},
     "output_type": "display_data"
    }
   ],
   "source": [
    "# quick check \n",
    "print(train_x_ndarray.shape, train_y_ndarray.shape) # => (60000, 28, 28) (60000,)\n",
    "print(f\"train_x_ndarray[0] = \\n{train_x_ndarray[0]}, \\ntrain_y_ndarray[0] = {train_y_ndarray[0]}\" )\n",
    "print(train_x_ndarray[0].shape, train_y_ndarray[0].shape) # => (28, 28) ()\n",
    "\n",
    "# load and display as b&w\n",
    "# plt.imshow(train_x_ndarray[0], cmap='gray')  # RGB\n",
    "plt.imshow(Image.fromarray(train_x_ndarray[0]).convert('1'), cmap='gray')"
   ]
  },
  {
   "cell_type": "markdown",
   "id": "04f09af4-c9f1-4cad-a69a-bd8f4612f530",
   "metadata": {},
   "source": [
    "## Model construction & configuration"
   ]
  },
  {
   "cell_type": "code",
   "execution_count": 7,
   "id": "851eea54-53e4-4cbc-bac4-884d3c798374",
   "metadata": {},
   "outputs": [
    {
     "data": {
      "text/html": [
       "<pre style=\"white-space:pre;overflow-x:auto;line-height:normal;font-family:Menlo,'DejaVu Sans Mono',consolas,'Courier New',monospace\"><span style=\"font-weight: bold\">Model: \"sequential\"</span>\n",
       "</pre>\n"
      ],
      "text/plain": [
       "\u001b[1mModel: \"sequential\"\u001b[0m\n"
      ]
     },
     "metadata": {},
     "output_type": "display_data"
    },
    {
     "data": {
      "text/html": [
       "<pre style=\"white-space:pre;overflow-x:auto;line-height:normal;font-family:Menlo,'DejaVu Sans Mono',consolas,'Courier New',monospace\">┏━━━━━━━━━━━━━━━━━━━━━━━━━━━━━━━━━┳━━━━━━━━━━━━━━━━━━━━━━━━┳━━━━━━━━━━━━━━━┓\n",
       "┃<span style=\"font-weight: bold\"> Layer (type)                    </span>┃<span style=\"font-weight: bold\"> Output Shape           </span>┃<span style=\"font-weight: bold\">       Param # </span>┃\n",
       "┡━━━━━━━━━━━━━━━━━━━━━━━━━━━━━━━━━╇━━━━━━━━━━━━━━━━━━━━━━━━╇━━━━━━━━━━━━━━━┩\n",
       "│ dense (<span style=\"color: #0087ff; text-decoration-color: #0087ff\">Dense</span>)                   │ (<span style=\"color: #00d7ff; text-decoration-color: #00d7ff\">None</span>, <span style=\"color: #00af00; text-decoration-color: #00af00\">28</span>, <span style=\"color: #00af00; text-decoration-color: #00af00\">28</span>, <span style=\"color: #00af00; text-decoration-color: #00af00\">64</span>)     │           <span style=\"color: #00af00; text-decoration-color: #00af00\">128</span> │\n",
       "├─────────────────────────────────┼────────────────────────┼───────────────┤\n",
       "│ flatten (<span style=\"color: #0087ff; text-decoration-color: #0087ff\">Flatten</span>)               │ (<span style=\"color: #00d7ff; text-decoration-color: #00d7ff\">None</span>, <span style=\"color: #00af00; text-decoration-color: #00af00\">50176</span>)          │             <span style=\"color: #00af00; text-decoration-color: #00af00\">0</span> │\n",
       "├─────────────────────────────────┼────────────────────────┼───────────────┤\n",
       "│ dense_1 (<span style=\"color: #0087ff; text-decoration-color: #0087ff\">Dense</span>)                 │ (<span style=\"color: #00d7ff; text-decoration-color: #00d7ff\">None</span>, <span style=\"color: #00af00; text-decoration-color: #00af00\">10</span>)             │       <span style=\"color: #00af00; text-decoration-color: #00af00\">501,770</span> │\n",
       "└─────────────────────────────────┴────────────────────────┴───────────────┘\n",
       "</pre>\n"
      ],
      "text/plain": [
       "┏━━━━━━━━━━━━━━━━━━━━━━━━━━━━━━━━━┳━━━━━━━━━━━━━━━━━━━━━━━━┳━━━━━━━━━━━━━━━┓\n",
       "┃\u001b[1m \u001b[0m\u001b[1mLayer (type)                   \u001b[0m\u001b[1m \u001b[0m┃\u001b[1m \u001b[0m\u001b[1mOutput Shape          \u001b[0m\u001b[1m \u001b[0m┃\u001b[1m \u001b[0m\u001b[1m      Param #\u001b[0m\u001b[1m \u001b[0m┃\n",
       "┡━━━━━━━━━━━━━━━━━━━━━━━━━━━━━━━━━╇━━━━━━━━━━━━━━━━━━━━━━━━╇━━━━━━━━━━━━━━━┩\n",
       "│ dense (\u001b[38;5;33mDense\u001b[0m)                   │ (\u001b[38;5;45mNone\u001b[0m, \u001b[38;5;34m28\u001b[0m, \u001b[38;5;34m28\u001b[0m, \u001b[38;5;34m64\u001b[0m)     │           \u001b[38;5;34m128\u001b[0m │\n",
       "├─────────────────────────────────┼────────────────────────┼───────────────┤\n",
       "│ flatten (\u001b[38;5;33mFlatten\u001b[0m)               │ (\u001b[38;5;45mNone\u001b[0m, \u001b[38;5;34m50176\u001b[0m)          │             \u001b[38;5;34m0\u001b[0m │\n",
       "├─────────────────────────────────┼────────────────────────┼───────────────┤\n",
       "│ dense_1 (\u001b[38;5;33mDense\u001b[0m)                 │ (\u001b[38;5;45mNone\u001b[0m, \u001b[38;5;34m10\u001b[0m)             │       \u001b[38;5;34m501,770\u001b[0m │\n",
       "└─────────────────────────────────┴────────────────────────┴───────────────┘\n"
      ]
     },
     "metadata": {},
     "output_type": "display_data"
    },
    {
     "data": {
      "text/html": [
       "<pre style=\"white-space:pre;overflow-x:auto;line-height:normal;font-family:Menlo,'DejaVu Sans Mono',consolas,'Courier New',monospace\"><span style=\"font-weight: bold\"> Total params: </span><span style=\"color: #00af00; text-decoration-color: #00af00\">501,898</span> (1.91 MB)\n",
       "</pre>\n"
      ],
      "text/plain": [
       "\u001b[1m Total params: \u001b[0m\u001b[38;5;34m501,898\u001b[0m (1.91 MB)\n"
      ]
     },
     "metadata": {},
     "output_type": "display_data"
    },
    {
     "data": {
      "text/html": [
       "<pre style=\"white-space:pre;overflow-x:auto;line-height:normal;font-family:Menlo,'DejaVu Sans Mono',consolas,'Courier New',monospace\"><span style=\"font-weight: bold\"> Trainable params: </span><span style=\"color: #00af00; text-decoration-color: #00af00\">501,898</span> (1.91 MB)\n",
       "</pre>\n"
      ],
      "text/plain": [
       "\u001b[1m Trainable params: \u001b[0m\u001b[38;5;34m501,898\u001b[0m (1.91 MB)\n"
      ]
     },
     "metadata": {},
     "output_type": "display_data"
    },
    {
     "data": {
      "text/html": [
       "<pre style=\"white-space:pre;overflow-x:auto;line-height:normal;font-family:Menlo,'DejaVu Sans Mono',consolas,'Courier New',monospace\"><span style=\"font-weight: bold\"> Non-trainable params: </span><span style=\"color: #00af00; text-decoration-color: #00af00\">0</span> (0.00 B)\n",
       "</pre>\n"
      ],
      "text/plain": [
       "\u001b[1m Non-trainable params: \u001b[0m\u001b[38;5;34m0\u001b[0m (0.00 B)\n"
      ]
     },
     "metadata": {},
     "output_type": "display_data"
    }
   ],
   "source": [
    "def build_model():\n",
    "    model = Sequential()\n",
    "    # =================================\n",
    "    # Feature extractor\n",
    "    # =================================\n",
    "    model.add(Input(shape=(28,28,1))),\n",
    "    model.add(Dense(64, activation=\"relu\"))\n",
    "    # =================================\n",
    "    # Neck\n",
    "    # =================================\n",
    "    model.add(Flatten()),\n",
    "    # =================================\n",
    "    # Head/Output \n",
    "    # =================================\n",
    "    model.add(Dense(units=num_classes, activation=\"softmax\"))\n",
    "    # =================================\n",
    "    # Compile model\n",
    "    # =================================\n",
    "    model.compile(loss=\"categorical_crossentropy\", \n",
    "                  optimizer=tf.keras.optimizers.Adam(1e-3),\n",
    "                  metrics=[\"accuracy\"])\n",
    "    return model\n",
    "\n",
    "# Construct the model and show it\n",
    "model = build_model()\n",
    "model.summary()"
   ]
  },
  {
   "cell_type": "markdown",
   "id": "67713258-9ee8-42ad-87ee-bdb1512fb6df",
   "metadata": {},
   "source": [
    "## Data Preparation (Part II)\n",
    "\n",
    ">__Note:__\n",
    ">\n",
    "> Now we know our taget ML model; thus we need to finalize the preparation of our data according this model (see the Input shape of (28, 28, 1). We don't have to do a lot of work since the original images format is quite similar."
   ]
  },
  {
   "cell_type": "code",
   "execution_count": 8,
   "id": "1bff6acc-1dcd-4acb-b8ea-5dbe8e3bb022",
   "metadata": {},
   "outputs": [
    {
     "name": "stdout",
     "output_type": "stream",
     "text": [
      "[INFO] before reshaping >>>  (50000, 28, 28) (28, 28) (50000, 10) (10000, 28, 28) (50000, 10)\n",
      "[INFO] before reshaping >>> \n",
      " [[0.    0.    0.    0.    0.    0.    0.    0.    0.    0.    0.    0.    0.    0.    0.    0.    0.    0.    0.    0.    0.    0.    0.    0.    0.    0.    0.    0.   ]\n",
      " [0.    0.    0.    0.    0.    0.    0.    0.    0.    0.    0.    0.    0.    0.    0.    0.    0.    0.    0.    0.    0.    0.    0.    0.    0.    0.    0.    0.   ]\n",
      " [0.    0.    0.    0.    0.    0.    0.    0.    0.    0.    0.    0.    0.    0.    0.    0.    0.    0.    0.    0.    0.    0.    0.    0.    0.    0.    0.    0.   ]\n",
      " [0.    0.    0.    0.    0.    0.    0.    0.    0.    0.    0.    0.    0.    0.    0.    0.    0.    0.    0.    0.    0.    0.    0.    0.    0.    0.    0.    0.   ]\n",
      " [0.    0.    0.    0.    0.    0.    0.    0.    0.    0.    0.    0.    0.    0.    0.    0.    0.    0.    0.    0.    0.    0.    0.    0.    0.    0.    0.    0.   ]\n",
      " [0.    0.    0.    0.    0.    0.    0.    0.    0.    0.114 0.588 0.765 0.996 1.    0.996 0.69  0.757 0.588 0.376 0.    0.    0.    0.    0.    0.    0.    0.    0.   ]\n",
      " [0.    0.    0.    0.    0.    0.    0.    0.188 0.651 0.878 0.992 0.992 0.918 0.769 0.992 0.992 0.992 0.992 0.914 0.    0.    0.    0.    0.    0.    0.    0.    0.   ]\n",
      " [0.    0.    0.    0.    0.    0.365 0.957 0.976 0.992 0.733 0.18  0.039 0.031 0.016 0.039 0.761 0.992 0.992 0.914 0.    0.    0.    0.    0.    0.    0.    0.    0.   ]\n",
      " [0.    0.    0.    0.    0.    0.42  0.992 0.992 0.902 0.188 0.    0.    0.    0.    0.    0.753 0.992 0.992 0.612 0.    0.    0.    0.    0.    0.    0.    0.    0.   ]\n",
      " [0.    0.    0.    0.    0.    0.012 0.078 0.078 0.059 0.    0.    0.    0.    0.    0.169 0.878 0.992 0.961 0.29  0.    0.    0.    0.    0.    0.    0.    0.    0.   ]\n",
      " [0.    0.    0.    0.    0.    0.    0.    0.    0.    0.    0.    0.    0.    0.    0.976 0.992 0.961 0.494 0.    0.    0.    0.    0.    0.    0.    0.    0.    0.   ]\n",
      " [0.    0.    0.    0.    0.    0.    0.    0.    0.    0.    0.    0.055 0.396 0.875 0.992 0.973 0.486 0.    0.    0.    0.    0.    0.    0.    0.    0.    0.    0.   ]\n",
      " [0.    0.    0.    0.    0.    0.    0.    0.    0.    0.043 0.651 0.937 0.992 0.992 0.992 0.733 0.118 0.    0.    0.    0.    0.    0.    0.    0.    0.    0.    0.   ]\n",
      " [0.    0.    0.    0.    0.    0.    0.    0.    0.    0.063 0.973 0.98  0.992 0.992 0.992 0.992 0.91  0.835 0.435 0.008 0.    0.    0.    0.    0.    0.    0.    0.   ]\n",
      " [0.    0.    0.    0.    0.    0.    0.    0.    0.    0.    0.    0.169 0.384 0.384 0.816 0.992 0.992 0.992 0.992 0.733 0.086 0.    0.    0.    0.    0.    0.    0.   ]\n",
      " [0.    0.    0.    0.    0.    0.    0.    0.    0.    0.    0.    0.    0.    0.    0.035 0.2   0.467 0.992 0.992 0.992 0.298 0.    0.    0.    0.    0.    0.    0.   ]\n",
      " [0.    0.    0.    0.    0.    0.    0.    0.    0.    0.    0.    0.    0.    0.    0.    0.    0.004 0.718 0.992 0.992 0.545 0.    0.    0.    0.    0.    0.    0.   ]\n",
      " [0.    0.    0.    0.    0.    0.    0.    0.    0.    0.    0.    0.    0.    0.    0.    0.    0.    0.714 0.992 0.992 0.408 0.    0.    0.    0.    0.    0.    0.   ]\n",
      " [0.    0.    0.    0.    0.    0.    0.    0.    0.    0.    0.    0.    0.    0.    0.    0.    0.333 0.976 0.992 0.992 0.141 0.    0.    0.    0.    0.    0.    0.   ]\n",
      " [0.    0.    0.    0.    0.    0.    0.    0.    0.    0.    0.    0.    0.    0.    0.    0.235 0.839 0.992 0.992 0.678 0.043 0.    0.    0.    0.    0.    0.    0.   ]\n",
      " [0.    0.    0.    0.    0.    0.    0.    0.    0.    0.    0.    0.    0.    0.    0.384 0.969 0.992 0.992 0.886 0.035 0.    0.    0.    0.    0.    0.    0.    0.   ]\n",
      " [0.    0.    0.    0.    0.    0.    0.    0.    0.    0.    0.    0.    0.165 0.588 0.988 0.992 0.992 0.914 0.208 0.    0.    0.    0.    0.    0.    0.    0.    0.   ]\n",
      " [0.    0.    0.    0.    0.    0.    0.165 0.451 0.165 0.235 0.451 0.624 0.941 0.992 0.992 0.98  0.686 0.098 0.    0.    0.    0.    0.    0.    0.    0.    0.    0.   ]\n",
      " [0.    0.    0.    0.    0.    0.    0.733 0.992 0.992 0.992 0.992 0.992 0.992 0.992 0.773 0.337 0.    0.    0.    0.    0.    0.    0.    0.    0.    0.    0.    0.   ]\n",
      " [0.    0.    0.    0.    0.    0.    0.404 0.992 0.992 0.992 0.992 0.992 0.91  0.263 0.004 0.    0.    0.    0.    0.    0.    0.    0.    0.    0.    0.    0.    0.   ]\n",
      " [0.    0.    0.    0.    0.    0.    0.    0.    0.    0.    0.    0.    0.    0.    0.    0.    0.    0.    0.    0.    0.    0.    0.    0.    0.    0.    0.    0.   ]\n",
      " [0.    0.    0.    0.    0.    0.    0.    0.    0.    0.    0.    0.    0.    0.    0.    0.    0.    0.    0.    0.    0.    0.    0.    0.    0.    0.    0.    0.   ]\n",
      " [0.    0.    0.    0.    0.    0.    0.    0.    0.    0.    0.    0.    0.    0.    0.    0.    0.    0.    0.    0.    0.    0.    0.    0.    0.    0.    0.    0.   ]] [0. 0. 0. 1. 0. 0. 0. 0. 0. 0.]\n"
     ]
    }
   ],
   "source": [
    "X_train = train_x_ndarray.astype('float32')\n",
    "X_test = test_x_ndarray.astype('float32')\n",
    "\n",
    "# make sure you are not introducing nan\n",
    "X_train = np.nan_to_num(X_train, nan=0)\n",
    "X_test = np.nan_to_num(X_test, nan=0)\n",
    "\n",
    "# normalization: VERY IMPORTANT!!!!\n",
    "X_train = X_train / 255\n",
    "X_test = X_test / 255\n",
    "\n",
    "# one hot encoding of labels\n",
    "y_train = to_categorical(train_y_ndarray)\n",
    "y_test = to_categorical(test_y_ndarray)\n",
    "assert y_train.shape[1] == num_classes, f\"[FATAL] The number of classes should be equal to {num_classes}. Abort!\"\n",
    "\n",
    "# before reshaping\n",
    "print(\"[INFO] before reshaping >>> \", X_train.shape, X_train[0].shape, y_train.shape, X_test.shape, y_train.shape)\n",
    "print(\"[INFO] before reshaping >>> \\n\",X_train[0], y_train[0])"
   ]
  },
  {
   "cell_type": "code",
   "execution_count": 28,
   "id": "e089965c-025a-42c9-a995-7bd2530087d7",
   "metadata": {},
   "outputs": [
    {
     "name": "stdout",
     "output_type": "stream",
     "text": [
      "[INFO] After reshaping >>>  (50000, 28, 28, 1) (28, 28, 1) (50000, 10) (10000, 28, 28, 1) (50000, 10)\n"
     ]
    }
   ],
   "source": [
    "# Explicit reshaping of training and testing data to (28, 28, 1)\n",
    "# See other notebooks for details\n",
    "\n",
    "X_train = X_train.reshape(X_train.shape[0], 28, 28, 1)\n",
    "X_test = X_test.reshape(X_test.shape[0], 28, 28, 1)\n",
    "print(\"[INFO] After reshaping >>> \", X_train.shape, X_train[0].shape, y_train.shape, X_test.shape, y_train.shape)"
   ]
  },
  {
   "cell_type": "markdown",
   "id": "6a4fc4dc-c01f-4ff5-8677-c152c12f62d8",
   "metadata": {},
   "source": [
    "## Model Training & Evaluation"
   ]
  },
  {
   "cell_type": "markdown",
   "id": "7ea40d87-d15d-447b-bb0a-8544e7e55404",
   "metadata": {},
   "source": [
    "__Construct the demonstration set__\n",
    "\n",
    "Here, we isolate in the `demo/` subdirectory, some testing images. We'll use them later on - once our model is trained - to demonstrate how accurate it is. "
   ]
  },
  {
   "cell_type": "code",
   "execution_count": 29,
   "id": "9c67dcc4-de51-44af-910b-779788b02d77",
   "metadata": {},
   "outputs": [
    {
     "name": "stdout",
     "output_type": "stream",
     "text": [
      "[INFO] Nothing to do because /home/ml/datasets/mnist/demo contains already enough images!\n"
     ]
    }
   ],
   "source": [
    "def reconstruct_demo_dir(nb, from_set, target_dir):\n",
    "    # randomly collect the indices\n",
    "    demo_rnd_indices = np.random.randint(1, high=len(from_set), size=nb)\n",
    "    for i in demo_rnd_indices:\n",
    "        plt.imsave(os.path.join(target_dir, demo_prefix + str(i) + \".jpg\"), from_set[i], cmap='gray')\n",
    "    print(f\"[INFO] {len(demo_rnd_indices)} images have been created in {target_dir}\")        \n",
    "\n",
    "# check if the demo dir exists and contains at least nb_demo files\n",
    "\n",
    "if os.path.exists(DEMO_DIR): \n",
    "    nb_files = len([name for name in os.listdir(DEMO_DIR) if os.path.isfile(os.path.join(DEMO_DIR, name))])\n",
    "    if nb_files < nb_demo:\n",
    "        # So you can safely manually add demo file \n",
    "        reconstruct_demo_dir(nb=nb_demo, from_set=test_x_ndarray, target_dir=DEMO_DIR)\n",
    "    else:\n",
    "        print(f\"[INFO] Nothing to do because {DEMO_DIR} contains already enough images!\")\n",
    "else: \n",
    "    reconstruct_demo_dir(nb=nb_demo, from_set=test_x_ndarray, target_dir=DEMO_DIR)"
   ]
  },
  {
   "cell_type": "markdown",
   "id": "8c29a030-dade-4390-b54d-68f43883db10",
   "metadata": {},
   "source": [
    "__Test some demo images before training__"
   ]
  },
  {
   "cell_type": "code",
   "execution_count": 30,
   "id": "4e572cd4-6793-4a0f-9017-493f72546cc9",
   "metadata": {},
   "outputs": [
    {
     "name": "stdout",
     "output_type": "stream",
     "text": [
      "[INFO] Load demo images as Black'n White... \n"
     ]
    },
    {
     "data": {
      "image/png": "[encoded data removed]",
      "text/plain": [
       "<Figure size 500x500 with 12 Axes>"
      ]
     },
     "metadata": {},
     "output_type": "display_data"
    },
    {
     "name": "stdout",
     "output_type": "stream",
     "text": [
      "\u001b[1m1/1\u001b[0m \u001b[32m━━━━━━━━━━━━━━━━━━━━\u001b[0m\u001b[37m\u001b[0m \u001b[1m0s\u001b[0m 53ms/step\n",
      "[INFO] Prédictions:\n",
      " digit: 2 \t -  digit: 7 \t -  digit: 9 \t - \n",
      " digit: 8 \t -  digit: 2 \t -  digit: 0 \t - \n",
      "\n"
     ]
    }
   ],
   "source": [
    "nb_imgs = 6\n",
    "nb_rows = 2\n",
    "nb_cols = 3\n",
    "\n",
    "# load as b&w images\n",
    "print(\"[INFO] Load demo images as Black'n White... \")\n",
    "demo_imgs = [Image.open(os.path.join(DEMO_DIR, name)).convert('1') for name in os.listdir(DEMO_DIR)[:nb_imgs]]\n",
    "\n",
    "fig = plt.figure(figsize=(5., 5.))\n",
    "grid = ImageGrid(\n",
    "    fig, 111,  # similar to subplot(111)\n",
    "    nrows_ncols=(nb_rows, nb_cols),\n",
    "    axes_pad=0.1,\n",
    ")\n",
    "\n",
    "for ax, img in zip(grid, demo_imgs):\n",
    "    ax.imshow(img)\n",
    "plt.show()\n",
    "\n",
    "# Now let's predict\n",
    "\n",
    "demo_imgs_arrays = np.array([\n",
    "    np.asarray(demo_img).reshape(demo_img.size[0], demo_img.size[1], 1) \n",
    "    for demo_img in demo_imgs\n",
    "]) \n",
    "raw_predictions = model.predict(demo_imgs_arrays)\n",
    "# print(raw_predictions)\n",
    "\n",
    "\n",
    "refined_predictions = []\n",
    "for rp in raw_predictions:\n",
    "    refined_predictions.append(np.argmax(rp))\n",
    "\n",
    "print(\"[INFO] Prédictions:\")\n",
    "\n",
    "msg_pred = \"\"\n",
    "cpt = 0\n",
    "for i in range(nb_rows):\n",
    "    for j in range(nb_cols):\n",
    "        msg_pred += f\" digit: {refined_predictions[cpt]} \\t - \"\n",
    "        cpt += 1\n",
    "    msg_pred += \"\\n\"\n",
    "    \n",
    "print(msg_pred)"
   ]
  },
  {
   "cell_type": "code",
   "execution_count": 31,
   "id": "c9232c6d-492c-4b39-8699-781089c3169a",
   "metadata": {},
   "outputs": [
    {
     "name": "stdout",
     "output_type": "stream",
     "text": [
      "[INFO]\n",
      "[INFO] ======================= \n",
      "[INFO] Hyperparameters\n",
      "[INFO] ======================= \n",
      "[INFO]\n",
      "[INFO] batch_size = 8\n",
      "[INFO] epochs = 10\n",
      "[INFO]\n",
      "[INFO] ======================= \n",
      "[INFO] Train & Evaluate\n",
      "[INFO] ======================= \n",
      "[INFO]\n",
      "Epoch 1/10\n"
     ]
    },
    {
     "name": "stderr",
     "output_type": "stream",
     "text": [
      "2025-03-12 08:22:08.458167: W external/local_xla/xla/tsl/framework/cpu_allocator_impl.cc:83] Allocation of 156800000 exceeds 10% of free system memory.\n"
     ]
    },
    {
     "name": "stdout",
     "output_type": "stream",
     "text": [
      "\u001b[1m6250/6250\u001b[0m \u001b[32m━━━━━━━━━━━━━━━━━━━━\u001b[0m\u001b[37m\u001b[0m \u001b[1m58s\u001b[0m 9ms/step - accuracy: 0.8702 - loss: 0.4428 - val_accuracy: 0.9108 - val_loss: 0.3028\n",
      "Epoch 2/10\n",
      "\u001b[1m6250/6250\u001b[0m \u001b[32m━━━━━━━━━━━━━━━━━━━━\u001b[0m\u001b[37m\u001b[0m \u001b[1m61s\u001b[0m 10ms/step - accuracy: 0.9151 - loss: 0.3060 - val_accuracy: 0.9120 - val_loss: 0.3000\n",
      "Epoch 3/10\n",
      "\u001b[1m6250/6250\u001b[0m \u001b[32m━━━━━━━━━━━━━━━━━━━━\u001b[0m\u001b[37m\u001b[0m \u001b[1m60s\u001b[0m 10ms/step - accuracy: 0.9202 - loss: 0.2884 - val_accuracy: 0.9127 - val_loss: 0.2968\n",
      "Epoch 4/10\n",
      "\u001b[1m6250/6250\u001b[0m \u001b[32m━━━━━━━━━━━━━━━━━━━━\u001b[0m\u001b[37m\u001b[0m \u001b[1m61s\u001b[0m 10ms/step - accuracy: 0.9232 - loss: 0.2781 - val_accuracy: 0.9147 - val_loss: 0.2916\n",
      "Epoch 5/10\n",
      "\u001b[1m6250/6250\u001b[0m \u001b[32m━━━━━━━━━━━━━━━━━━━━\u001b[0m\u001b[37m\u001b[0m \u001b[1m58s\u001b[0m 9ms/step - accuracy: 0.9252 - loss: 0.2703 - val_accuracy: 0.9180 - val_loss: 0.2869\n",
      "Epoch 6/10\n",
      "\u001b[1m6250/6250\u001b[0m \u001b[32m━━━━━━━━━━━━━━━━━━━━\u001b[0m\u001b[37m\u001b[0m \u001b[1m61s\u001b[0m 10ms/step - accuracy: 0.9264 - loss: 0.2654 - val_accuracy: 0.9216 - val_loss: 0.2780\n",
      "Epoch 7/10\n",
      "\u001b[1m6250/6250\u001b[0m \u001b[32m━━━━━━━━━━━━━━━━━━━━\u001b[0m\u001b[37m\u001b[0m \u001b[1m62s\u001b[0m 10ms/step - accuracy: 0.9280 - loss: 0.2618 - val_accuracy: 0.9213 - val_loss: 0.2802\n",
      "Epoch 8/10\n",
      "\u001b[1m6250/6250\u001b[0m \u001b[32m━━━━━━━━━━━━━━━━━━━━\u001b[0m\u001b[37m\u001b[0m \u001b[1m62s\u001b[0m 10ms/step - accuracy: 0.9292 - loss: 0.2579 - val_accuracy: 0.9230 - val_loss: 0.2775\n",
      "Epoch 9/10\n",
      "\u001b[1m6250/6250\u001b[0m \u001b[32m━━━━━━━━━━━━━━━━━━━━\u001b[0m\u001b[37m\u001b[0m \u001b[1m62s\u001b[0m 10ms/step - accuracy: 0.9300 - loss: 0.2551 - val_accuracy: 0.9238 - val_loss: 0.2766\n",
      "Epoch 10/10\n",
      "\u001b[1m6250/6250\u001b[0m \u001b[32m━━━━━━━━━━━━━━━━━━━━\u001b[0m\u001b[37m\u001b[0m \u001b[1m62s\u001b[0m 10ms/step - accuracy: 0.9306 - loss: 0.2525 - val_accuracy: 0.9221 - val_loss: 0.2773\n",
      "[INFO] Duration = 606.8124053478241 seconds.\n"
     ]
    }
   ],
   "source": [
    "# Remind the hyperparameters values\n",
    "\n",
    "t1 = time.time()\n",
    "\n",
    "print(\"[INFO]\")\n",
    "print(\"[INFO] ======================= \")\n",
    "print(\"[INFO] Hyperparameters\")\n",
    "print(\"[INFO] ======================= \")\n",
    "print(\"[INFO]\")\n",
    "print(f\"[INFO] batch_size = {batch_size}\")\n",
    "print(f\"[INFO] epochs = {epochs}\")\n",
    "\n",
    "print(\"[INFO]\")\n",
    "print(\"[INFO] ======================= \")\n",
    "print(\"[INFO] Train & Evaluate\")\n",
    "print(\"[INFO] ======================= \")\n",
    "print(\"[INFO]\")\n",
    "\n",
    "# Fit the model\n",
    "history = model.fit(\n",
    "    x=X_train, \n",
    "    y=y_train,\n",
    "    batch_size=batch_size,\n",
    "    validation_data=(X_test, y_test), \n",
    "    epochs=epochs\n",
    ")\n",
    "\n",
    "t2 = time.time()\n",
    "print(f\"[INFO] Duration = {t2-t1} seconds.\")\n",
    "\n",
    "# Note: \n",
    "# During the fit, monitor the GPUs activity using: $ watch -n 0.5 nvidia-smi"
   ]
  },
  {
   "cell_type": "code",
   "execution_count": 32,
   "id": "aec23973-8750-4cdc-a120-5cf2babe11e8",
   "metadata": {},
   "outputs": [
    {
     "name": "stdout",
     "output_type": "stream",
     "text": [
      "dict_keys(['accuracy', 'loss', 'val_accuracy', 'val_loss'])\n"
     ]
    },
    {
     "data": {
      "image/png": "[encoded data removed]",
      "text/plain": [
       "<Figure size 640x480 with 1 Axes>"
      ]
     },
     "metadata": {},
     "output_type": "display_data"
    },
    {
     "data": {
      "image/png": "[encoded data removed]",
      "text/plain": [
       "<Figure size 640x480 with 1 Axes>"
      ]
     },
     "metadata": {},
     "output_type": "display_data"
    }
   ],
   "source": [
    "# check entries in the history \n",
    "print(history.history.keys()) # => dict_keys(['accuracy', 'loss', 'val_accuracy', 'val_loss'])\n",
    "\n",
    "# summarize history for accuracy\n",
    "plt.plot(history.history[\"accuracy\"])\n",
    "plt.plot(history.history[\"val_accuracy\"])\n",
    "plt.title('model accuracy')\n",
    "plt.ylabel('accuracy')\n",
    "plt.xlabel('epoch')\n",
    "plt.legend(['train', 'validation'], loc='upper left')\n",
    "plt.show()\n",
    "\n",
    "# summarize history for loss\n",
    "plt.plot(history.history['loss'])\n",
    "plt.plot(history.history['val_loss'])\n",
    "plt.title('model loss')\n",
    "plt.ylabel('loss')\n",
    "plt.xlabel('epoch')\n",
    "plt.legend(['train', 'test'], loc='upper left')\n",
    "plt.show()\n"
   ]
  },
  {
   "cell_type": "code",
   "execution_count": 33,
   "id": "96a3be45-52e4-418e-beac-6ade65691659",
   "metadata": {},
   "outputs": [
    {
     "name": "stdout",
     "output_type": "stream",
     "text": [
      "\n",
      "[INFO] Model Val Accuracy: 92.21%, Error: 7.79%\n"
     ]
    }
   ],
   "source": [
    "# Final evaluation of the model\n",
    "scores = model.evaluate(\n",
    "    x=X_test, \n",
    "    y=y_test, \n",
    "    verbose=0\n",
    ")\n",
    "\n",
    "print(\"\\n[INFO] Model Val Accuracy: %.2f%%, Error: %.2f%%\" % (scores[1]*100, 100-scores[1]*100))"
   ]
  },
  {
   "cell_type": "markdown",
   "id": "2db04b23-42b4-4a96-9c57-e8989c9c809b",
   "metadata": {},
   "source": [
    "__Test some demo images afetr training__"
   ]
  },
  {
   "cell_type": "code",
   "execution_count": 34,
   "id": "c4f38a2c-af90-414c-b849-fb0cdc3a789f",
   "metadata": {},
   "outputs": [
    {
     "name": "stdout",
     "output_type": "stream",
     "text": [
      "[INFO] Previous demo images... \n"
     ]
    },
    {
     "data": {
      "image/png": "[encoded data removed]",
      "text/plain": [
       "<Figure size 500x500 with 12 Axes>"
      ]
     },
     "metadata": {},
     "output_type": "display_data"
    },
    {
     "name": "stdout",
     "output_type": "stream",
     "text": [
      "\u001b[1m1/1\u001b[0m \u001b[32m━━━━━━━━━━━━━━━━━━━━\u001b[0m\u001b[37m\u001b[0m \u001b[1m0s\u001b[0m 30ms/step\n",
      "[INFO] Prédictions:\n",
      " digit: 2 \t -  digit: 2 \t -  digit: 2 \t - \n",
      " digit: 2 \t -  digit: 6 \t -  digit: 5 \t - \n",
      "\n"
     ]
    }
   ],
   "source": [
    "# lest reulse the same previous demo settings...\n",
    "\n",
    "print(\"[INFO] Previous demo images... \")\n",
    "fig = plt.figure(figsize=(5., 5.))\n",
    "grid = ImageGrid(\n",
    "    fig, 111,  # similar to subplot(111)\n",
    "    nrows_ncols=(nb_rows, nb_cols),\n",
    "    axes_pad=0.1,\n",
    ")\n",
    "\n",
    "for ax, img in zip(grid, demo_imgs):\n",
    "    ax.imshow(img)\n",
    "plt.show()\n",
    "\n",
    "# Now let's predict (again)\n",
    "raw_predictions = model.predict(demo_imgs_arrays)\n",
    "\n",
    "refined_predictions = []\n",
    "for rp in raw_predictions:\n",
    "    refined_predictions.append(np.argmax(rp))\n",
    "\n",
    "print(\"[INFO] Prédictions:\")\n",
    "\n",
    "msg_pred = \"\"\n",
    "cpt = 0\n",
    "for i in range(nb_rows):\n",
    "    for j in range(nb_cols):\n",
    "        msg_pred += f\" digit: {refined_predictions[cpt]} \\t - \"\n",
    "        cpt += 1\n",
    "    msg_pred += \"\\n\"\n",
    "    \n",
    "print(msg_pred)"
   ]
  },
  {
   "cell_type": "markdown",
   "id": "b502ee45-12d3-49ca-a0aa-4de85bbb5d0d",
   "metadata": {},
   "source": [
    "__END OF NOTEBOOK.__"
   ]
  }
 ],
 "metadata": {
  "kernelspec": {
   "display_name": "kernel-venv-ai-dev-training-tf-py3.12.0",
   "language": "python",
   "name": "kernel-venv-ai-dev-training-tf-py3.12.0"
  },
  "language_info": {
   "codemirror_mode": {
    "name": "ipython",
    "version": 3
   },
   "file_extension": ".py",
   "mimetype": "text/x-python",
   "name": "python",
   "nbconvert_exporter": "python",
   "pygments_lexer": "ipython3",
   "version": "3.12.0"
  }
 },
 "nbformat": 4,
 "nbformat_minor": 5
}
